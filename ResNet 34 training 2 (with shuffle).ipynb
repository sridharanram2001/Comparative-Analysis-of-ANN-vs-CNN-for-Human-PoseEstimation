{
 "cells": [
  {
   "cell_type": "markdown",
   "metadata": {},
   "source": [
    "<h1>Import Required Libraries</h1>"
   ]
  },
  {
   "cell_type": "code",
   "execution_count": 2,
   "metadata": {},
   "outputs": [],
   "source": [
    "import cv2\n",
    "import os\n",
    "import pandas as pd\n",
    "import numpy as np\n",
    "import seaborn as sns\n",
    "import matplotlib.pyplot as plt\n",
    "from matplotlib.image import imread\n",
    "from matplotlib.pyplot import imshow\n",
    "# Technically not necessary in newest versions of jupyter\n",
    "%matplotlib inline\n",
    "\n",
    "import keras\n",
    "import keras.backend as K\n",
    "from keras.models import Model\n",
    "from keras.layers import Input, Dense, Conv2D, Conv3D, DepthwiseConv2D, SeparableConv2D, Conv3DTranspose, ZeroPadding2D\n",
    "from keras.layers import Flatten, MaxPooling2D, AveragePooling2D, GlobalAvgPool2D, UpSampling2D, BatchNormalization\n",
    "from keras.layers import Concatenate, Add, Dropout, ReLU, Lambda, Activation, LeakyReLU, PReLU\n",
    "from keras.preprocessing import image\n",
    "from keras.applications.imagenet_utils import preprocess_input\n",
    "from tensorflow.keras.utils import to_categorical\n",
    "\n",
    "from IPython.display import SVG\n",
    "from keras.utils.vis_utils import model_to_dot\n",
    "from keras.initializers import glorot_uniform\n",
    "from sklearn.utils import shuffle\n",
    "\n",
    "from time import time\n",
    "import numpy as np"
   ]
  },
  {
   "cell_type": "markdown",
   "metadata": {},
   "source": [
    "<h1>Data Preprocessing</h1>"
   ]
  },
  {
   "cell_type": "code",
   "execution_count": 3,
   "metadata": {},
   "outputs": [],
   "source": [
    "my_data_dir = 'D:\\\\Pycharm\\\\Anomalous_detection_CNN\\\\data_four_poses'"
   ]
  },
  {
   "cell_type": "code",
   "execution_count": 4,
   "metadata": {},
   "outputs": [
    {
     "data": {
      "text/plain": [
       "['test', 'train']"
      ]
     },
     "execution_count": 4,
     "metadata": {},
     "output_type": "execute_result"
    }
   ],
   "source": [
    "os.listdir(my_data_dir) "
   ]
  },
  {
   "cell_type": "code",
   "execution_count": 5,
   "metadata": {},
   "outputs": [],
   "source": [
    "test_path = my_data_dir+'\\\\test\\\\'\n",
    "train_path = my_data_dir+'\\\\train\\\\'"
   ]
  },
  {
   "cell_type": "code",
   "execution_count": 6,
   "metadata": {},
   "outputs": [
    {
     "data": {
      "text/plain": [
       "['climb', 'crawl', 'normal', 'squat']"
      ]
     },
     "execution_count": 6,
     "metadata": {},
     "output_type": "execute_result"
    }
   ],
   "source": [
    "os.listdir(test_path)"
   ]
  },
  {
   "cell_type": "code",
   "execution_count": 7,
   "metadata": {},
   "outputs": [
    {
     "data": {
      "text/plain": [
       "['climb', 'crawl', 'normal', 'squat']"
      ]
     },
     "execution_count": 7,
     "metadata": {},
     "output_type": "execute_result"
    }
   ],
   "source": [
    "os.listdir(train_path)"
   ]
  },
  {
   "cell_type": "code",
   "execution_count": 8,
   "metadata": {},
   "outputs": [
    {
     "name": "stdout",
     "output_type": "stream",
     "text": [
      "D:\\Pycharm\\Anomalous_detection_CNN\\data_four_poses\\train\\climb\\\n",
      "D:\\Pycharm\\Anomalous_detection_CNN\\data_four_poses\\train\\crawl\\\n",
      "D:\\Pycharm\\Anomalous_detection_CNN\\data_four_poses\\train\\normal\\\n",
      "D:\\Pycharm\\Anomalous_detection_CNN\\data_four_poses\\train\\squat\\\n"
     ]
    }
   ],
   "source": [
    "train_x = []\n",
    "train_y = []\n",
    "for i in os.listdir(train_path):\n",
    "    data_path = train_path + i + \"\\\\\"\n",
    "    print(data_path)\n",
    "    filenames = [x for x in os.listdir(data_path)]\n",
    "    \n",
    "    for f in filenames:\n",
    "        img = cv2.imread(data_path + f)\n",
    "        img = cv2.resize(img,(225, 85))\n",
    "        train_x.append(img)\n",
    "        train_y.append(i)\n",
    "#print(train_y)"
   ]
  },
  {
   "cell_type": "code",
   "execution_count": null,
   "metadata": {},
   "outputs": [],
   "source": []
  },
  {
   "cell_type": "code",
   "execution_count": 9,
   "metadata": {},
   "outputs": [
    {
     "name": "stdout",
     "output_type": "stream",
     "text": [
      "D:\\Pycharm\\Anomalous_detection_CNN\\data_four_poses\\test\\climb\\\n",
      "D:\\Pycharm\\Anomalous_detection_CNN\\data_four_poses\\test\\crawl\\\n",
      "D:\\Pycharm\\Anomalous_detection_CNN\\data_four_poses\\test\\normal\\\n",
      "D:\\Pycharm\\Anomalous_detection_CNN\\data_four_poses\\test\\squat\\\n"
     ]
    }
   ],
   "source": [
    "test_x = []\n",
    "test_y = []\n",
    "for i in os.listdir(test_path):\n",
    "    data_path = test_path + i + \"\\\\\"\n",
    "    print(data_path)\n",
    "    filenames = [x for x in os.listdir(data_path)]\n",
    "    \n",
    "    for f in filenames:\n",
    "        img = cv2.imread(data_path + f)\n",
    "        img = cv2.resize(img,(225, 85))\n",
    "        test_x.append(img)\n",
    "        test_y.append(i)"
   ]
  },
  {
   "cell_type": "code",
   "execution_count": null,
   "metadata": {},
   "outputs": [],
   "source": []
  },
  {
   "cell_type": "code",
   "execution_count": null,
   "metadata": {},
   "outputs": [],
   "source": []
  },
  {
   "cell_type": "code",
   "execution_count": null,
   "metadata": {},
   "outputs": [],
   "source": []
  },
  {
   "cell_type": "code",
   "execution_count": null,
   "metadata": {},
   "outputs": [],
   "source": []
  },
  {
   "cell_type": "code",
   "execution_count": 10,
   "metadata": {},
   "outputs": [
    {
     "name": "stdout",
     "output_type": "stream",
     "text": [
      "(5200, 85, 225, 3)\n",
      "(2000, 85, 225, 3)\n"
     ]
    }
   ],
   "source": [
    "train_x = np.array(train_x)\n",
    "print(train_x.shape)\n",
    "test_x = np.array(test_x)\n",
    "print(test_x.shape)"
   ]
  },
  {
   "cell_type": "code",
   "execution_count": 11,
   "metadata": {},
   "outputs": [],
   "source": [
    "train_x = train_x.astype('float32')/ 255.0\n",
    "test_x = test_x.astype('float32')/ 255.0"
   ]
  },
  {
   "cell_type": "code",
   "execution_count": 12,
   "metadata": {},
   "outputs": [],
   "source": [
    "train_x, train_y = shuffle(train_x, train_y)\n",
    "test_x, test_y = shuffle(test_x, test_y)"
   ]
  },
  {
   "cell_type": "code",
   "execution_count": 13,
   "metadata": {},
   "outputs": [],
   "source": [
    "def y_test_cat(p):\n",
    "    if(p=='climb'):\n",
    "        return 0\n",
    "    elif(p=='crawl'):\n",
    "        return 1\n",
    "    elif(p=='normal'):\n",
    "        return 2\n",
    "    elif(p=='squat'):\n",
    "        return 3"
   ]
  },
  {
   "cell_type": "code",
   "execution_count": 14,
   "metadata": {},
   "outputs": [
    {
     "name": "stdout",
     "output_type": "stream",
     "text": [
      "[3, 2, 1, 3, 0, 0, 3, 1, 3, 2, 1, 3, 3, 2, 3, 0, 1, 1, 0, 3, 3, 3, 0, 1, 1, 1, 0, 1, 0, 2, 1, 3, 1, 1, 3, 1, 1, 3, 2, 0, 3, 3, 1, 2, 1, 0, 0, 0, 0, 3, 2, 0, 3, 3, 0, 3, 2, 0, 0, 0, 3, 3, 1, 2, 1, 1, 0, 0, 2, 1, 3, 2, 3, 3, 1, 1, 2, 1, 0, 1, 3, 2, 3, 1, 0, 0, 1, 0, 2, 1, 3, 3, 2, 0, 2, 1, 0, 2, 3, 2, 3, 1, 2, 2, 2, 3, 3, 2, 0, 2, 1, 0, 3, 1, 1, 2, 3, 0, 3, 0, 2, 3, 3, 3, 1, 3, 1, 3, 3, 3, 3, 3, 2, 0, 3, 3, 3, 1, 1, 2, 2, 1, 3, 2, 1, 3, 0, 0, 1, 3, 2, 1, 1, 2, 2, 2, 3, 3, 1, 1, 2, 2, 0, 2, 1, 0, 1, 1, 2, 1, 2, 0, 3, 0, 0, 0, 1, 2, 1, 1, 3, 2, 3, 2, 2, 1, 0, 3, 0, 0, 2, 0, 1, 0, 3, 2, 3, 2, 2, 1, 3, 2, 3, 1, 0, 0, 1, 2, 0, 1, 1, 1, 0, 2, 2, 0, 2, 3, 2, 1, 0, 3, 2, 0, 0, 0, 3, 3, 1, 1, 3, 1, 3, 1, 1, 1, 3, 3, 3, 0, 2, 2, 2, 1, 3, 2, 0, 1, 2, 2, 1, 2, 2, 1, 0, 1, 2, 1, 3, 3, 2, 2, 3, 2, 0, 3, 2, 3, 0, 2, 2, 0, 0, 0, 3, 2, 3, 0, 1, 3, 3, 3, 3, 1, 0, 0, 2, 3, 1, 0, 0, 3, 0, 1, 0, 0, 1, 0, 3, 0, 1, 0, 3, 2, 3, 2, 3, 2, 0, 3, 0, 3, 1, 1, 2, 1, 0, 3, 0, 3, 3, 2, 3, 0, 0, 2, 2, 3, 1, 1, 2, 3, 3, 3, 3, 2, 0, 2, 2, 3, 2, 3, 0, 0, 0, 0, 3, 1, 3, 3, 1, 1, 1, 0, 2, 0, 3, 2, 2, 1, 2, 2, 1, 0, 0, 0, 3, 3, 2, 0, 2, 2, 2, 3, 0, 2, 2, 2, 2, 0, 1, 2, 0, 2, 2, 0, 0, 3, 1, 0, 1, 0, 2, 3, 1, 3, 2, 1, 1, 0, 1, 3, 3, 3, 0, 1, 1, 2, 2, 1, 1, 3, 1, 3, 2, 0, 1, 0, 2, 2, 2, 3, 2, 3, 2, 3, 0, 1, 2, 1, 0, 1, 2, 3, 0, 0, 2, 0, 2, 0, 0, 1, 2, 3, 3, 1, 2, 3, 3, 1, 2, 0, 3, 1, 0, 2, 0, 0, 2, 2, 0, 2, 1, 1, 3, 1, 3, 0, 2, 1, 3, 3, 1, 2, 2, 3, 2, 0, 0, 3, 3, 3, 3, 2, 1, 1, 2, 2, 0, 1, 3, 0, 0, 1, 3, 0, 2, 1, 1, 1, 1, 0, 2, 2, 3, 2, 2, 0, 3, 2, 2, 1, 2, 2, 1, 1, 0, 2, 0, 2, 2, 0, 1, 3, 3, 3, 2, 2, 2, 3, 3, 1, 3, 1, 0, 3, 1, 3, 1, 0, 2, 1, 2, 0, 3, 0, 1, 1, 3, 2, 0, 2, 3, 1, 3, 1, 3, 3, 1, 3, 3, 0, 2, 2, 0, 3, 2, 1, 0, 1, 1, 2, 0, 0, 0, 1, 2, 3, 0, 0, 3, 1, 0, 3, 0, 3, 3, 0, 1, 1, 3, 1, 0, 1, 1, 1, 0, 3, 2, 0, 1, 2, 0, 3, 2, 1, 3, 2, 1, 1, 2, 2, 2, 2, 2, 1, 2, 1, 1, 3, 0, 3, 0, 3, 1, 0, 0, 3, 2, 0, 1, 0, 0, 1, 3, 0, 1, 3, 0, 3, 0, 3, 1, 2, 0, 2, 1, 1, 3, 3, 3, 1, 1, 2, 1, 3, 2, 0, 0, 2, 3, 3, 1, 3, 3, 2, 3, 1, 3, 2, 1, 3, 1, 0, 0, 0, 3, 0, 3, 2, 0, 1, 0, 0, 0, 0, 0, 1, 0, 2, 2, 2, 3, 2, 1, 3, 3, 2, 1, 3, 1, 1, 3, 0, 2, 2, 2, 1, 1, 2, 1, 3, 3, 0, 2, 0, 1, 1, 3, 2, 3, 0, 0, 1, 1, 1, 1, 2, 2, 3, 3, 2, 1, 2, 3, 1, 2, 0, 0, 1, 0, 2, 2, 0, 0, 2, 1, 3, 0, 0, 1, 1, 0, 1, 0, 1, 3, 0, 3, 2, 0, 1, 0, 3, 3, 1, 3, 1, 0, 2, 1, 0, 0, 0, 0, 2, 0, 0, 1, 2, 1, 1, 0, 2, 3, 2, 1, 3, 1, 0, 2, 0, 1, 3, 0, 2, 1, 2, 2, 2, 1, 2, 1, 0, 2, 1, 2, 0, 0, 3, 2, 1, 1, 3, 2, 1, 0, 2, 3, 0, 2, 2, 2, 2, 1, 2, 0, 1, 3, 3, 0, 1, 1, 3, 2, 2, 2, 3, 1, 3, 3, 3, 3, 2, 0, 1, 3, 1, 2, 2, 1, 0, 0, 3, 3, 1, 0, 3, 2, 3, 2, 3, 2, 2, 2, 2, 2, 1, 1, 3, 3, 1, 1, 1, 0, 2, 3, 0, 0, 2, 3, 2, 0, 1, 2, 0, 2, 3, 3, 0, 1, 0, 3, 1, 3, 2, 2, 2, 3, 2, 3, 3, 3, 0, 2, 3, 3, 2, 0, 3, 1, 1, 0, 2, 2, 0, 0, 1, 3, 2, 1, 0, 0, 3, 0, 3, 1, 0, 0, 2, 1, 2, 0, 1, 0, 3, 2, 1, 2, 3, 1, 3, 1, 1, 0, 0, 1, 0, 1, 0, 3, 0, 0, 1, 0, 3, 1, 3, 0, 3, 2, 3, 1, 3, 3, 0, 3, 0, 0, 0, 1, 1, 3, 3, 0, 0, 1, 3, 1, 1, 1, 3, 3, 2, 0, 1, 2, 1, 0, 1, 1, 2, 1, 2, 2, 1, 0, 3, 3, 2, 2, 0, 0, 2, 1, 1, 2, 2, 0, 1, 3, 0, 0, 1, 2, 0, 0, 2, 1, 0, 0, 1, 1, 0, 1, 0, 0, 2, 1, 2, 2, 0, 3, 2, 2, 0, 2, 3, 1, 3, 1, 0, 0, 1, 3, 3, 1, 3, 3, 3, 2, 2, 2, 1, 1, 2, 0, 2, 0, 2, 3, 1, 1, 3, 2, 1, 1, 1, 2, 0, 3, 1, 3, 3, 1, 0, 0, 2, 3, 3, 3, 1, 3, 1, 0, 0, 3, 2, 1, 2, 0, 0, 0, 3, 2, 1, 0, 1, 0, 2, 0, 2, 0, 3, 0, 1, 0, 1, 3, 1, 1, 3, 1, 1, 0, 1, 0, 1, 0, 0, 0, 3, 0, 0, 1, 2, 0, 3, 0, 3, 2, 3, 3, 3, 1, 3, 3, 1, 0, 2, 0, 1, 2, 0, 3, 1, 1, 0, 2, 2, 0, 2, 3, 2, 1, 3, 1, 3, 2, 3, 0, 2, 0, 0, 1, 0, 0, 0, 0, 1, 2, 3, 0, 3, 3, 0, 1, 0, 3, 1, 2, 0, 0, 0, 2, 1, 0, 2, 2, 0, 1, 3, 0, 2, 2, 2, 2, 0, 0, 3, 1, 2, 2, 2, 1, 1, 2, 1, 1, 2, 2, 1, 1, 1, 2, 2, 2, 2, 2, 1, 0, 2, 1, 2, 1, 3, 1, 1, 3, 1, 3, 3, 1, 0, 3, 0, 3, 2, 2, 2, 1, 0, 1, 1, 2, 1, 1, 2, 2, 1, 3, 1, 2, 3, 3, 1, 2, 0, 1, 0, 3, 0, 2, 2, 2, 2, 0, 0, 2, 2, 2, 0, 2, 2, 2, 0, 0, 2, 1, 3, 1, 3, 1, 3, 3, 2, 0, 3, 2, 2, 0, 2, 3, 0, 1, 1, 3, 3, 0, 3, 1, 2, 0, 0, 0, 0, 0, 1, 0, 2, 1, 1, 0, 1, 0, 1, 0, 1, 1, 3, 2, 0, 3, 3, 2, 2, 2, 0, 1, 2, 2, 0, 1, 3, 1, 0, 3, 2, 0, 2, 0, 3, 2, 3, 2, 1, 2, 2, 1, 0, 1, 1, 1, 1, 0, 0, 0, 1, 1, 3, 3, 2, 3, 3, 0, 2, 2, 2, 2, 2, 1, 3, 3, 0, 2, 2, 1, 3, 0, 0, 2, 1, 0, 2, 2, 3, 2, 0, 2, 3, 3, 3, 1, 1, 0, 1, 3, 3, 0, 0, 1, 3, 3, 0, 1, 1, 0, 0, 0, 0, 0, 2, 0, 0, 0, 2, 3, 2, 2, 0, 0, 1, 1, 1, 0, 3, 2, 2, 1, 0, 0, 1, 3, 3, 0, 1, 0, 2, 1, 2, 3, 2, 1, 0, 0, 3, 3, 0, 2, 1, 1, 0, 2, 2, 0, 0, 1, 2, 2, 3, 3, 1, 3, 2, 1, 2, 1, 0, 2, 1, 1, 3, 2, 2, 3, 0, 2, 2, 3, 3, 0, 1, 2, 3, 2, 3, 3, 2, 0, 0, 3, 2, 1, 2, 2, 1, 2, 1, 0, 2, 1, 3, 0, 2, 1, 2, 0, 1, 1, 3, 3, 3, 3, 1, 1, 2, 0, 0, 2, 0, 3, 1, 2, 1, 0, 3, 3, 1, 1, 3, 3, 3, 0, 0, 2, 3, 3, 3, 2, 2, 2, 0, 3, 1, 3, 2, 0, 2, 0, 3, 1, 2, 2, 3, 2, 2, 2, 0, 1, 0, 0, 2, 1, 0, 3, 1, 3, 0, 3, 2, 2, 1, 1, 3, 3, 2, 0, 3, 0, 3, 2, 0, 2, 2, 3, 0, 3, 3, 0, 0, 2, 3, 3, 2, 1, 3, 2, 2, 2, 3, 1, 1, 2, 2, 0, 2, 0, 1, 0, 2, 3, 1, 1, 0, 0, 0, 0, 1, 3, 1, 0, 3, 0, 1, 2, 1, 0, 1, 2, 3, 3, 2, 3, 0, 3, 1, 2, 0, 0, 0, 3, 0, 1, 0, 3, 1, 3, 0, 2, 0, 1, 3, 1, 0, 0, 3, 1, 0, 3, 0, 0, 3, 0, 3, 3, 3, 1, 3, 0, 1, 0, 2, 3, 2, 0, 0, 3, 2, 2, 1, 2, 1, 1, 2, 2, 3, 1, 2, 0, 2, 2, 0, 0, 3, 2, 3, 2, 0, 1, 3, 1, 1, 2, 1, 3, 1, 2, 2, 1, 2, 3, 0, 0, 2, 1, 1, 0, 2, 3, 1, 0, 1, 0, 2, 1, 2, 0, 3, 2, 0, 1, 3, 0, 3, 3, 2, 0, 0, 2, 1, 3, 0, 1, 0, 2, 3, 3, 1, 2, 2, 2, 3, 3, 0, 0, 0, 0, 3, 1, 2, 2, 3, 0, 3, 3, 0, 3, 2, 2, 3, 1, 1, 0, 2, 3, 1, 1, 2, 3, 3, 0, 1, 0, 0, 2, 1, 0, 3, 0, 0, 2, 3, 1, 3, 0, 3, 1, 0, 3, 1, 0, 0, 3, 1, 2, 2, 3, 0, 1, 0, 2, 0, 2, 2, 1, 1, 1, 2, 0, 3, 1, 3, 3, 1, 3, 1, 1, 2, 0, 1, 1, 0, 3, 2, 3, 3, 3, 0, 3, 3, 3, 2, 0, 2, 1, 0, 2, 1, 3, 0, 0, 3, 0, 2, 2, 0, 2, 0, 1, 2, 3, 3, 0, 1, 2, 3, 3, 0, 3, 3, 3, 2, 0, 1, 3, 2, 1, 2, 3, 0, 0, 1, 3, 1, 2, 2, 3, 1, 1, 2, 1, 3, 2, 2, 2, 3, 1, 3, 0, 3, 3, 2, 1, 3, 0, 1, 3, 3, 0, 3, 1, 1, 2, 0, 1, 1, 0, 3, 1, 3, 3, 1, 3, 2, 1, 1, 2, 0, 1, 2, 2, 1, 1, 1, 0, 0, 0, 3, 0, 3, 3, 0, 0, 0, 3, 3, 1, 1, 1, 1, 1, 0, 3, 3, 2, 1, 2, 1, 0, 2, 0, 1, 0, 3, 1, 2, 2, 1, 2, 1, 2, 1, 1, 3, 0, 3, 2, 3, 3, 1, 1, 3, 3, 3, 1, 1, 2, 2, 1, 3, 0, 3, 3, 2, 3, 1, 3, 2, 0, 1]\n"
     ]
    }
   ],
   "source": [
    "test_y = np.array(test_y)\n",
    "test_y_cat = map(y_test_cat, test_y)\n",
    "\n",
    "test_y_cat = list(test_y_cat)\n",
    "print(test_y_cat)"
   ]
  },
  {
   "cell_type": "code",
   "execution_count": null,
   "metadata": {},
   "outputs": [],
   "source": []
  },
  {
   "cell_type": "code",
   "execution_count": 15,
   "metadata": {},
   "outputs": [
    {
     "name": "stderr",
     "output_type": "stream",
     "text": [
      "D:\\Anaconda\\lib\\site-packages\\sklearn\\preprocessing\\_encoders.py:415: FutureWarning: The handling of integer data will change in version 0.22. Currently, the categories are determined based on the range [0, max(values)], while in the future they will be determined based on the unique values.\n",
      "If you want the future behaviour and silence this warning, you can specify \"categories='auto'\".\n",
      "In case you used a LabelEncoder before this OneHotEncoder to convert the categories to integers, then you can now use the OneHotEncoder directly.\n",
      "  warnings.warn(msg, FutureWarning)\n",
      "D:\\Anaconda\\lib\\site-packages\\sklearn\\preprocessing\\_encoders.py:451: DeprecationWarning: The 'categorical_features' keyword is deprecated in version 0.20 and will be removed in 0.22. You can use the ColumnTransformer instead.\n",
      "  \"use the ColumnTransformer instead.\", DeprecationWarning)\n"
     ]
    },
    {
     "name": "stdout",
     "output_type": "stream",
     "text": [
      "(5200, 4)\n",
      "  (0, 3)\t1.0\n",
      "  (1, 2)\t1.0\n",
      "  (2, 2)\t1.0\n",
      "  (3, 1)\t1.0\n",
      "  (4, 0)\t1.0\n",
      "  (5, 1)\t1.0\n",
      "  (6, 0)\t1.0\n",
      "  (7, 3)\t1.0\n",
      "  (8, 0)\t1.0\n",
      "  (9, 2)\t1.0\n",
      "  (10, 2)\t1.0\n",
      "  (11, 2)\t1.0\n",
      "  (12, 2)\t1.0\n",
      "  (13, 0)\t1.0\n",
      "  (14, 2)\t1.0\n",
      "  (15, 3)\t1.0\n",
      "  (16, 2)\t1.0\n",
      "  (17, 1)\t1.0\n",
      "  (18, 1)\t1.0\n",
      "  (19, 0)\t1.0\n",
      "  (20, 0)\t1.0\n",
      "  (21, 0)\t1.0\n",
      "  (22, 3)\t1.0\n",
      "  (23, 2)\t1.0\n",
      "  (24, 0)\t1.0\n",
      "  :\t:\n",
      "  (5175, 1)\t1.0\n",
      "  (5176, 3)\t1.0\n",
      "  (5177, 2)\t1.0\n",
      "  (5178, 0)\t1.0\n",
      "  (5179, 2)\t1.0\n",
      "  (5180, 0)\t1.0\n",
      "  (5181, 1)\t1.0\n",
      "  (5182, 2)\t1.0\n",
      "  (5183, 2)\t1.0\n",
      "  (5184, 2)\t1.0\n",
      "  (5185, 3)\t1.0\n",
      "  (5186, 0)\t1.0\n",
      "  (5187, 2)\t1.0\n",
      "  (5188, 0)\t1.0\n",
      "  (5189, 2)\t1.0\n",
      "  (5190, 3)\t1.0\n",
      "  (5191, 3)\t1.0\n",
      "  (5192, 3)\t1.0\n",
      "  (5193, 0)\t1.0\n",
      "  (5194, 0)\t1.0\n",
      "  (5195, 1)\t1.0\n",
      "  (5196, 0)\t1.0\n",
      "  (5197, 1)\t1.0\n",
      "  (5198, 0)\t1.0\n",
      "  (5199, 2)\t1.0\n"
     ]
    }
   ],
   "source": [
    "from sklearn.preprocessing import LabelEncoder, OneHotEncoder\n",
    "\n",
    "y_labelencoder = LabelEncoder()\n",
    "y = y_labelencoder.fit_transform(train_y)\n",
    "\n",
    "y = y.reshape(-1, 1)\n",
    "onehotencoder = OneHotEncoder(categorical_features=[0])\n",
    "train_y = onehotencoder.fit_transform(y)\n",
    "print(train_y.shape)\n",
    "print(train_y)"
   ]
  },
  {
   "cell_type": "code",
   "execution_count": null,
   "metadata": {},
   "outputs": [],
   "source": []
  },
  {
   "cell_type": "code",
   "execution_count": 16,
   "metadata": {},
   "outputs": [
    {
     "name": "stderr",
     "output_type": "stream",
     "text": [
      "D:\\Anaconda\\lib\\site-packages\\sklearn\\preprocessing\\_encoders.py:415: FutureWarning: The handling of integer data will change in version 0.22. Currently, the categories are determined based on the range [0, max(values)], while in the future they will be determined based on the unique values.\n",
      "If you want the future behaviour and silence this warning, you can specify \"categories='auto'\".\n",
      "In case you used a LabelEncoder before this OneHotEncoder to convert the categories to integers, then you can now use the OneHotEncoder directly.\n",
      "  warnings.warn(msg, FutureWarning)\n",
      "D:\\Anaconda\\lib\\site-packages\\sklearn\\preprocessing\\_encoders.py:451: DeprecationWarning: The 'categorical_features' keyword is deprecated in version 0.20 and will be removed in 0.22. You can use the ColumnTransformer instead.\n",
      "  \"use the ColumnTransformer instead.\", DeprecationWarning)\n"
     ]
    },
    {
     "data": {
      "text/plain": [
       "(2000, 4)"
      ]
     },
     "execution_count": 16,
     "metadata": {},
     "output_type": "execute_result"
    }
   ],
   "source": [
    "y_labelencoder = LabelEncoder()\n",
    "y = y_labelencoder.fit_transform(test_y)\n",
    "\n",
    "y = y.reshape(-1, 1)\n",
    "onehotencoder = OneHotEncoder(categorical_features=[0])\n",
    "test_y = onehotencoder.fit_transform(y)\n",
    "test_y.shape"
   ]
  },
  {
   "cell_type": "code",
   "execution_count": 17,
   "metadata": {},
   "outputs": [
    {
     "data": {
      "text/plain": [
       "'Image0.png'"
      ]
     },
     "execution_count": 17,
     "metadata": {},
     "output_type": "execute_result"
    }
   ],
   "source": [
    "os.listdir(train_path+'\\\\normal')[0]"
   ]
  },
  {
   "cell_type": "code",
   "execution_count": 18,
   "metadata": {},
   "outputs": [],
   "source": [
    "stick_figure = train_path+'\\\\normal'+'\\\\Image0.png'"
   ]
  },
  {
   "cell_type": "code",
   "execution_count": 19,
   "metadata": {},
   "outputs": [],
   "source": [
    "stick_fig_img = imread(stick_figure)"
   ]
  },
  {
   "cell_type": "code",
   "execution_count": 20,
   "metadata": {},
   "outputs": [
    {
     "data": {
      "text/plain": [
       "<matplotlib.image.AxesImage at 0x1c83e227188>"
      ]
     },
     "execution_count": 20,
     "metadata": {},
     "output_type": "execute_result"
    },
    {
     "data": {
      "image/png": "[encoded data removed]",
      "text/plain": [
       "<Figure size 432x288 with 1 Axes>"
      ]
     },
     "metadata": {
      "needs_background": "light"
     },
     "output_type": "display_data"
    }
   ],
   "source": [
    "plt.imshow(stick_fig_img)"
   ]
  },
  {
   "cell_type": "code",
   "execution_count": 21,
   "metadata": {},
   "outputs": [
    {
     "data": {
      "text/plain": [
       "(392, 121, 3)"
      ]
     },
     "execution_count": 21,
     "metadata": {},
     "output_type": "execute_result"
    }
   ],
   "source": [
    "stick_fig_img.shape"
   ]
  },
  {
   "cell_type": "code",
   "execution_count": 22,
   "metadata": {},
   "outputs": [
    {
     "data": {
      "text/plain": [
       "1300"
      ]
     },
     "execution_count": 22,
     "metadata": {},
     "output_type": "execute_result"
    }
   ],
   "source": [
    "len(os.listdir(train_path+'\\\\normal'))"
   ]
  },
  {
   "cell_type": "code",
   "execution_count": 23,
   "metadata": {},
   "outputs": [],
   "source": [
    "dim1 = []\n",
    "dim2 = []\n",
    "for image_filename in os.listdir(test_path+'\\\\normal'):\n",
    "    \n",
    "    img = imread(test_path+'\\\\normal'+'\\\\'+image_filename)\n",
    "    d1,d2,colors = img.shape\n",
    "    dim1.append(d1)\n",
    "    dim2.append(d2)"
   ]
  },
  {
   "cell_type": "code",
   "execution_count": 24,
   "metadata": {},
   "outputs": [
    {
     "data": {
      "text/plain": [
       "<seaborn.axisgrid.JointGrid at 0x1c83e9d13c8>"
      ]
     },
     "execution_count": 24,
     "metadata": {},
     "output_type": "execute_result"
    },
    {
     "data": {
      "image/png": "[encoded data removed]",
      "text/plain": [
       "<Figure size 432x432 with 3 Axes>"
      ]
     },
     "metadata": {
      "needs_background": "light"
     },
     "output_type": "display_data"
    }
   ],
   "source": [
    "sns.jointplot(dim1,dim2)"
   ]
  },
  {
   "cell_type": "code",
   "execution_count": 25,
   "metadata": {},
   "outputs": [
    {
     "data": {
      "text/plain": [
       "220.694"
      ]
     },
     "execution_count": 25,
     "metadata": {},
     "output_type": "execute_result"
    }
   ],
   "source": [
    "np.mean(dim1)"
   ]
  },
  {
   "cell_type": "code",
   "execution_count": 26,
   "metadata": {},
   "outputs": [
    {
     "data": {
      "text/plain": [
       "81.036"
      ]
     },
     "execution_count": 26,
     "metadata": {},
     "output_type": "execute_result"
    }
   ],
   "source": [
    "np.mean(dim2)"
   ]
  },
  {
   "cell_type": "code",
   "execution_count": 27,
   "metadata": {},
   "outputs": [],
   "source": [
    "image_shape = (225,85,3)"
   ]
  },
  {
   "cell_type": "code",
   "execution_count": null,
   "metadata": {},
   "outputs": [],
   "source": []
  },
  {
   "cell_type": "markdown",
   "metadata": {},
   "source": [
    "<h1>Define ResNet34 architecture</h1>"
   ]
  },
  {
   "cell_type": "code",
   "execution_count": 28,
   "metadata": {},
   "outputs": [],
   "source": [
    "def identity_block(X, f, filters):\n",
    "    F1, F2 = filters\n",
    "    X_shortcut  = X\n",
    "    X = Conv2D(filters = F1, kernel_size = (1,1), strides= (1,1), padding = 'valid')(X)\n",
    "    X = BatchNormalization(axis = 3)(X)\n",
    "    X = Activation('relu')(X)\n",
    "    \n",
    "    X = Conv2D(filters = F2, kernel_size = (f,f), strides= (1,1), padding = 'same')(X)\n",
    "    X = BatchNormalization(axis = 3)(X)\n",
    "    X = Add()([X, X_shortcut])\n",
    "    X = Activation('relu')(X)\n",
    "    \n",
    "    #X = Conv2D(filters = F3, kernel_size = (1,1), strides= (1,1), padding = 'valid')(X)\n",
    "    #X = BatchNormalization(axis = 3)(X)\n",
    "    #X = Add()([X, X_shortcut])\n",
    "    #X = Activation('relu')(X)\n",
    "    \n",
    "    return X"
   ]
  },
  {
   "cell_type": "code",
   "execution_count": 29,
   "metadata": {},
   "outputs": [],
   "source": [
    "def convolutional_block(X, f, filters, s=2):\n",
    "    F1, F2 = filters\n",
    "    X_shortcut  = X\n",
    "    X = Conv2D(filters = F1, kernel_size = (1,1), strides= (s,s))(X)\n",
    "    X = BatchNormalization(axis = 3)(X)\n",
    "    X = Activation('relu')(X)\n",
    "    \n",
    "    X = Conv2D(filters = F2, kernel_size = (f,f), strides= (1,1), padding = 'same')(X)\n",
    "    X = BatchNormalization(axis = 3)(X)\n",
    "    X = Activation('relu')(X)\n",
    "    \n",
    "    #X = Conv2D(filters = F3, kernel_size = (1,1), strides= (1,1), padding = 'valid')(X)\n",
    "    #X = BatchNormalization(axis = 3)(X)\n",
    "    \n",
    "    X_shortcut = Conv2D(filters = F2, kernel_size = (1,1), strides= (s,s), padding = 'valid')(X_shortcut)\n",
    "    X_shortcut = BatchNormalization(axis = 3)(X_shortcut)\n",
    "    \n",
    "    X = Add()([X, X_shortcut])\n",
    "    X = Activation('relu')(X)\n",
    "    \n",
    "    return X"
   ]
  },
  {
   "cell_type": "code",
   "execution_count": 30,
   "metadata": {},
   "outputs": [],
   "source": [
    "def ResNet34(input_shape=(85,225,3), classes = 4):\n",
    "    X_input = Input(input_shape)\n",
    "    X = ZeroPadding2D((3,3))(X_input)\n",
    "    \n",
    "    X = Conv2D(64, (7,7), strides=(2,2))(X)\n",
    "    X = BatchNormalization(axis=3)(X)\n",
    "    X = Activation('relu')(X)\n",
    "    X = MaxPooling2D((3,3), strides=(2,2))(X)\n",
    "    \n",
    "    #X = convolutional_block(X, f=3, filters = [64,64], s=1)\n",
    "    \n",
    "    X = identity_block(X, 3, [64,64])\n",
    "    \n",
    "    X = identity_block(X, 3, [64,64])\n",
    "    \n",
    "    X = identity_block(X, 3, [64,64])\n",
    "    \n",
    "    X = convolutional_block(X, f=3, filters = [128,128], s=2)\n",
    "    X = identity_block(X, 3, [128,128])\n",
    "    X = identity_block(X, 3, [128,128])\n",
    "    X = identity_block(X, 3, [128,128])\n",
    "    \n",
    "    X = convolutional_block(X, f=3, filters = [256,256], s=2)\n",
    "    X = identity_block(X, 3, [256,256])\n",
    "    X = identity_block(X, 3, [256,256])\n",
    "    X = identity_block(X, 3, [256,256])\n",
    "    X = identity_block(X, 3, [256,256])\n",
    "    X = identity_block(X, 3, [256,256])\n",
    "    \n",
    "        \n",
    "    X = convolutional_block(X, f=3, filters = [512,512], s=2)\n",
    "    X = identity_block(X, 3, [512,512])\n",
    "    X = identity_block(X, 3, [512,512])\n",
    "    \n",
    "    X = AveragePooling2D((2,2), name=\"avg_pool\")(X)\n",
    "    \n",
    "    X = Flatten()(X)\n",
    "    X = Dense(classes, activation = 'softmax', name='fc'+str(classes), kernel_initializer=glorot_uniform(seed=0))(X)\n",
    "    \n",
    "    model = Model(inputs = X_input, outputs = X, name = 'ResNet34')\n",
    "    \n",
    "    return model"
   ]
  },
  {
   "cell_type": "code",
   "execution_count": 31,
   "metadata": {},
   "outputs": [
    {
     "name": "stdout",
     "output_type": "stream",
     "text": [
      "WARNING:tensorflow:From D:\\Anaconda\\lib\\site-packages\\keras\\backend\\tensorflow_backend.py:4070: The name tf.nn.max_pool is deprecated. Please use tf.nn.max_pool2d instead.\n",
      "\n",
      "WARNING:tensorflow:From D:\\Anaconda\\lib\\site-packages\\keras\\backend\\tensorflow_backend.py:4074: The name tf.nn.avg_pool is deprecated. Please use tf.nn.avg_pool2d instead.\n",
      "\n"
     ]
    }
   ],
   "source": [
    "model = ResNet34(input_shape=(85,225,3), classes = 4)"
   ]
  },
  {
   "cell_type": "code",
   "execution_count": 32,
   "metadata": {},
   "outputs": [],
   "source": [
    "model.compile(optimizer = 'adam', loss='categorical_crossentropy', metrics = ['accuracy'])"
   ]
  },
  {
   "cell_type": "code",
   "execution_count": 33,
   "metadata": {},
   "outputs": [
    {
     "name": "stdout",
     "output_type": "stream",
     "text": [
      "Model: \"ResNet34\"\n",
      "__________________________________________________________________________________________________\n",
      "Layer (type)                    Output Shape         Param #     Connected to                     \n",
      "==================================================================================================\n",
      "input_1 (InputLayer)            (None, 85, 225, 3)   0                                            \n",
      "__________________________________________________________________________________________________\n",
      "zero_padding2d_1 (ZeroPadding2D (None, 91, 231, 3)   0           input_1[0][0]                    \n",
      "__________________________________________________________________________________________________\n",
      "conv2d_1 (Conv2D)               (None, 43, 113, 64)  9472        zero_padding2d_1[0][0]           \n",
      "__________________________________________________________________________________________________\n",
      "batch_normalization_1 (BatchNor (None, 43, 113, 64)  256         conv2d_1[0][0]                   \n",
      "__________________________________________________________________________________________________\n",
      "activation_1 (Activation)       (None, 43, 113, 64)  0           batch_normalization_1[0][0]      \n",
      "__________________________________________________________________________________________________\n",
      "max_pooling2d_1 (MaxPooling2D)  (None, 21, 56, 64)   0           activation_1[0][0]               \n",
      "__________________________________________________________________________________________________\n",
      "conv2d_2 (Conv2D)               (None, 21, 56, 64)   4160        max_pooling2d_1[0][0]            \n",
      "__________________________________________________________________________________________________\n",
      "batch_normalization_2 (BatchNor (None, 21, 56, 64)   256         conv2d_2[0][0]                   \n",
      "__________________________________________________________________________________________________\n",
      "activation_2 (Activation)       (None, 21, 56, 64)   0           batch_normalization_2[0][0]      \n",
      "__________________________________________________________________________________________________\n",
      "conv2d_3 (Conv2D)               (None, 21, 56, 64)   36928       activation_2[0][0]               \n",
      "__________________________________________________________________________________________________\n",
      "batch_normalization_3 (BatchNor (None, 21, 56, 64)   256         conv2d_3[0][0]                   \n",
      "__________________________________________________________________________________________________\n",
      "add_1 (Add)                     (None, 21, 56, 64)   0           batch_normalization_3[0][0]      \n",
      "                                                                 max_pooling2d_1[0][0]            \n",
      "__________________________________________________________________________________________________\n",
      "activation_3 (Activation)       (None, 21, 56, 64)   0           add_1[0][0]                      \n",
      "__________________________________________________________________________________________________\n",
      "conv2d_4 (Conv2D)               (None, 21, 56, 64)   4160        activation_3[0][0]               \n",
      "__________________________________________________________________________________________________\n",
      "batch_normalization_4 (BatchNor (None, 21, 56, 64)   256         conv2d_4[0][0]                   \n",
      "__________________________________________________________________________________________________\n",
      "activation_4 (Activation)       (None, 21, 56, 64)   0           batch_normalization_4[0][0]      \n",
      "__________________________________________________________________________________________________\n",
      "conv2d_5 (Conv2D)               (None, 21, 56, 64)   36928       activation_4[0][0]               \n",
      "__________________________________________________________________________________________________\n",
      "batch_normalization_5 (BatchNor (None, 21, 56, 64)   256         conv2d_5[0][0]                   \n",
      "__________________________________________________________________________________________________\n",
      "add_2 (Add)                     (None, 21, 56, 64)   0           batch_normalization_5[0][0]      \n",
      "                                                                 activation_3[0][0]               \n",
      "__________________________________________________________________________________________________\n",
      "activation_5 (Activation)       (None, 21, 56, 64)   0           add_2[0][0]                      \n",
      "__________________________________________________________________________________________________\n",
      "conv2d_6 (Conv2D)               (None, 21, 56, 64)   4160        activation_5[0][0]               \n",
      "__________________________________________________________________________________________________\n",
      "batch_normalization_6 (BatchNor (None, 21, 56, 64)   256         conv2d_6[0][0]                   \n",
      "__________________________________________________________________________________________________\n",
      "activation_6 (Activation)       (None, 21, 56, 64)   0           batch_normalization_6[0][0]      \n",
      "__________________________________________________________________________________________________\n",
      "conv2d_7 (Conv2D)               (None, 21, 56, 64)   36928       activation_6[0][0]               \n",
      "__________________________________________________________________________________________________\n",
      "batch_normalization_7 (BatchNor (None, 21, 56, 64)   256         conv2d_7[0][0]                   \n",
      "__________________________________________________________________________________________________\n",
      "add_3 (Add)                     (None, 21, 56, 64)   0           batch_normalization_7[0][0]      \n",
      "                                                                 activation_5[0][0]               \n",
      "__________________________________________________________________________________________________\n",
      "activation_7 (Activation)       (None, 21, 56, 64)   0           add_3[0][0]                      \n",
      "__________________________________________________________________________________________________\n",
      "conv2d_8 (Conv2D)               (None, 11, 28, 128)  8320        activation_7[0][0]               \n",
      "__________________________________________________________________________________________________\n",
      "batch_normalization_8 (BatchNor (None, 11, 28, 128)  512         conv2d_8[0][0]                   \n",
      "__________________________________________________________________________________________________\n",
      "activation_8 (Activation)       (None, 11, 28, 128)  0           batch_normalization_8[0][0]      \n",
      "__________________________________________________________________________________________________\n",
      "conv2d_9 (Conv2D)               (None, 11, 28, 128)  147584      activation_8[0][0]               \n",
      "__________________________________________________________________________________________________\n",
      "batch_normalization_9 (BatchNor (None, 11, 28, 128)  512         conv2d_9[0][0]                   \n",
      "__________________________________________________________________________________________________\n",
      "conv2d_10 (Conv2D)              (None, 11, 28, 128)  8320        activation_7[0][0]               \n",
      "__________________________________________________________________________________________________\n",
      "activation_9 (Activation)       (None, 11, 28, 128)  0           batch_normalization_9[0][0]      \n",
      "__________________________________________________________________________________________________\n",
      "batch_normalization_10 (BatchNo (None, 11, 28, 128)  512         conv2d_10[0][0]                  \n",
      "__________________________________________________________________________________________________\n",
      "add_4 (Add)                     (None, 11, 28, 128)  0           activation_9[0][0]               \n",
      "                                                                 batch_normalization_10[0][0]     \n",
      "__________________________________________________________________________________________________\n",
      "activation_10 (Activation)      (None, 11, 28, 128)  0           add_4[0][0]                      \n",
      "__________________________________________________________________________________________________\n",
      "conv2d_11 (Conv2D)              (None, 11, 28, 128)  16512       activation_10[0][0]              \n",
      "__________________________________________________________________________________________________\n",
      "batch_normalization_11 (BatchNo (None, 11, 28, 128)  512         conv2d_11[0][0]                  \n",
      "__________________________________________________________________________________________________\n",
      "activation_11 (Activation)      (None, 11, 28, 128)  0           batch_normalization_11[0][0]     \n",
      "__________________________________________________________________________________________________\n",
      "conv2d_12 (Conv2D)              (None, 11, 28, 128)  147584      activation_11[0][0]              \n",
      "__________________________________________________________________________________________________\n",
      "batch_normalization_12 (BatchNo (None, 11, 28, 128)  512         conv2d_12[0][0]                  \n",
      "__________________________________________________________________________________________________\n",
      "add_5 (Add)                     (None, 11, 28, 128)  0           batch_normalization_12[0][0]     \n",
      "                                                                 activation_10[0][0]              \n",
      "__________________________________________________________________________________________________\n",
      "activation_12 (Activation)      (None, 11, 28, 128)  0           add_5[0][0]                      \n",
      "__________________________________________________________________________________________________\n",
      "conv2d_13 (Conv2D)              (None, 11, 28, 128)  16512       activation_12[0][0]              \n",
      "__________________________________________________________________________________________________\n",
      "batch_normalization_13 (BatchNo (None, 11, 28, 128)  512         conv2d_13[0][0]                  \n",
      "__________________________________________________________________________________________________\n",
      "activation_13 (Activation)      (None, 11, 28, 128)  0           batch_normalization_13[0][0]     \n",
      "__________________________________________________________________________________________________\n",
      "conv2d_14 (Conv2D)              (None, 11, 28, 128)  147584      activation_13[0][0]              \n",
      "__________________________________________________________________________________________________\n",
      "batch_normalization_14 (BatchNo (None, 11, 28, 128)  512         conv2d_14[0][0]                  \n",
      "__________________________________________________________________________________________________\n",
      "add_6 (Add)                     (None, 11, 28, 128)  0           batch_normalization_14[0][0]     \n",
      "                                                                 activation_12[0][0]              \n",
      "__________________________________________________________________________________________________\n",
      "activation_14 (Activation)      (None, 11, 28, 128)  0           add_6[0][0]                      \n",
      "__________________________________________________________________________________________________\n",
      "conv2d_15 (Conv2D)              (None, 11, 28, 128)  16512       activation_14[0][0]              \n",
      "__________________________________________________________________________________________________\n",
      "batch_normalization_15 (BatchNo (None, 11, 28, 128)  512         conv2d_15[0][0]                  \n",
      "__________________________________________________________________________________________________\n",
      "activation_15 (Activation)      (None, 11, 28, 128)  0           batch_normalization_15[0][0]     \n",
      "__________________________________________________________________________________________________\n",
      "conv2d_16 (Conv2D)              (None, 11, 28, 128)  147584      activation_15[0][0]              \n",
      "__________________________________________________________________________________________________\n",
      "batch_normalization_16 (BatchNo (None, 11, 28, 128)  512         conv2d_16[0][0]                  \n",
      "__________________________________________________________________________________________________\n",
      "add_7 (Add)                     (None, 11, 28, 128)  0           batch_normalization_16[0][0]     \n",
      "                                                                 activation_14[0][0]              \n",
      "__________________________________________________________________________________________________\n",
      "activation_16 (Activation)      (None, 11, 28, 128)  0           add_7[0][0]                      \n",
      "__________________________________________________________________________________________________\n",
      "conv2d_17 (Conv2D)              (None, 6, 14, 256)   33024       activation_16[0][0]              \n",
      "__________________________________________________________________________________________________\n",
      "batch_normalization_17 (BatchNo (None, 6, 14, 256)   1024        conv2d_17[0][0]                  \n",
      "__________________________________________________________________________________________________\n",
      "activation_17 (Activation)      (None, 6, 14, 256)   0           batch_normalization_17[0][0]     \n",
      "__________________________________________________________________________________________________\n",
      "conv2d_18 (Conv2D)              (None, 6, 14, 256)   590080      activation_17[0][0]              \n",
      "__________________________________________________________________________________________________\n",
      "batch_normalization_18 (BatchNo (None, 6, 14, 256)   1024        conv2d_18[0][0]                  \n",
      "__________________________________________________________________________________________________\n",
      "conv2d_19 (Conv2D)              (None, 6, 14, 256)   33024       activation_16[0][0]              \n",
      "__________________________________________________________________________________________________\n",
      "activation_18 (Activation)      (None, 6, 14, 256)   0           batch_normalization_18[0][0]     \n",
      "__________________________________________________________________________________________________\n",
      "batch_normalization_19 (BatchNo (None, 6, 14, 256)   1024        conv2d_19[0][0]                  \n",
      "__________________________________________________________________________________________________\n",
      "add_8 (Add)                     (None, 6, 14, 256)   0           activation_18[0][0]              \n",
      "                                                                 batch_normalization_19[0][0]     \n",
      "__________________________________________________________________________________________________\n",
      "activation_19 (Activation)      (None, 6, 14, 256)   0           add_8[0][0]                      \n",
      "__________________________________________________________________________________________________\n",
      "conv2d_20 (Conv2D)              (None, 6, 14, 256)   65792       activation_19[0][0]              \n",
      "__________________________________________________________________________________________________\n",
      "batch_normalization_20 (BatchNo (None, 6, 14, 256)   1024        conv2d_20[0][0]                  \n",
      "__________________________________________________________________________________________________\n",
      "activation_20 (Activation)      (None, 6, 14, 256)   0           batch_normalization_20[0][0]     \n",
      "__________________________________________________________________________________________________\n",
      "conv2d_21 (Conv2D)              (None, 6, 14, 256)   590080      activation_20[0][0]              \n",
      "__________________________________________________________________________________________________\n",
      "batch_normalization_21 (BatchNo (None, 6, 14, 256)   1024        conv2d_21[0][0]                  \n",
      "__________________________________________________________________________________________________\n",
      "add_9 (Add)                     (None, 6, 14, 256)   0           batch_normalization_21[0][0]     \n",
      "                                                                 activation_19[0][0]              \n",
      "__________________________________________________________________________________________________\n",
      "activation_21 (Activation)      (None, 6, 14, 256)   0           add_9[0][0]                      \n",
      "__________________________________________________________________________________________________\n",
      "conv2d_22 (Conv2D)              (None, 6, 14, 256)   65792       activation_21[0][0]              \n",
      "__________________________________________________________________________________________________\n",
      "batch_normalization_22 (BatchNo (None, 6, 14, 256)   1024        conv2d_22[0][0]                  \n",
      "__________________________________________________________________________________________________\n",
      "activation_22 (Activation)      (None, 6, 14, 256)   0           batch_normalization_22[0][0]     \n",
      "__________________________________________________________________________________________________\n",
      "conv2d_23 (Conv2D)              (None, 6, 14, 256)   590080      activation_22[0][0]              \n",
      "__________________________________________________________________________________________________\n",
      "batch_normalization_23 (BatchNo (None, 6, 14, 256)   1024        conv2d_23[0][0]                  \n",
      "__________________________________________________________________________________________________\n",
      "add_10 (Add)                    (None, 6, 14, 256)   0           batch_normalization_23[0][0]     \n",
      "                                                                 activation_21[0][0]              \n",
      "__________________________________________________________________________________________________\n",
      "activation_23 (Activation)      (None, 6, 14, 256)   0           add_10[0][0]                     \n",
      "__________________________________________________________________________________________________\n",
      "conv2d_24 (Conv2D)              (None, 6, 14, 256)   65792       activation_23[0][0]              \n",
      "__________________________________________________________________________________________________\n",
      "batch_normalization_24 (BatchNo (None, 6, 14, 256)   1024        conv2d_24[0][0]                  \n",
      "__________________________________________________________________________________________________\n",
      "activation_24 (Activation)      (None, 6, 14, 256)   0           batch_normalization_24[0][0]     \n",
      "__________________________________________________________________________________________________\n",
      "conv2d_25 (Conv2D)              (None, 6, 14, 256)   590080      activation_24[0][0]              \n",
      "__________________________________________________________________________________________________\n",
      "batch_normalization_25 (BatchNo (None, 6, 14, 256)   1024        conv2d_25[0][0]                  \n",
      "__________________________________________________________________________________________________\n",
      "add_11 (Add)                    (None, 6, 14, 256)   0           batch_normalization_25[0][0]     \n",
      "                                                                 activation_23[0][0]              \n",
      "__________________________________________________________________________________________________\n",
      "activation_25 (Activation)      (None, 6, 14, 256)   0           add_11[0][0]                     \n",
      "__________________________________________________________________________________________________\n",
      "conv2d_26 (Conv2D)              (None, 6, 14, 256)   65792       activation_25[0][0]              \n",
      "__________________________________________________________________________________________________\n",
      "batch_normalization_26 (BatchNo (None, 6, 14, 256)   1024        conv2d_26[0][0]                  \n",
      "__________________________________________________________________________________________________\n",
      "activation_26 (Activation)      (None, 6, 14, 256)   0           batch_normalization_26[0][0]     \n",
      "__________________________________________________________________________________________________\n",
      "conv2d_27 (Conv2D)              (None, 6, 14, 256)   590080      activation_26[0][0]              \n",
      "__________________________________________________________________________________________________\n",
      "batch_normalization_27 (BatchNo (None, 6, 14, 256)   1024        conv2d_27[0][0]                  \n",
      "__________________________________________________________________________________________________\n",
      "add_12 (Add)                    (None, 6, 14, 256)   0           batch_normalization_27[0][0]     \n",
      "                                                                 activation_25[0][0]              \n",
      "__________________________________________________________________________________________________\n",
      "activation_27 (Activation)      (None, 6, 14, 256)   0           add_12[0][0]                     \n",
      "__________________________________________________________________________________________________\n",
      "conv2d_28 (Conv2D)              (None, 6, 14, 256)   65792       activation_27[0][0]              \n",
      "__________________________________________________________________________________________________\n",
      "batch_normalization_28 (BatchNo (None, 6, 14, 256)   1024        conv2d_28[0][0]                  \n",
      "__________________________________________________________________________________________________\n",
      "activation_28 (Activation)      (None, 6, 14, 256)   0           batch_normalization_28[0][0]     \n",
      "__________________________________________________________________________________________________\n",
      "conv2d_29 (Conv2D)              (None, 6, 14, 256)   590080      activation_28[0][0]              \n",
      "__________________________________________________________________________________________________\n",
      "batch_normalization_29 (BatchNo (None, 6, 14, 256)   1024        conv2d_29[0][0]                  \n",
      "__________________________________________________________________________________________________\n",
      "add_13 (Add)                    (None, 6, 14, 256)   0           batch_normalization_29[0][0]     \n",
      "                                                                 activation_27[0][0]              \n",
      "__________________________________________________________________________________________________\n",
      "activation_29 (Activation)      (None, 6, 14, 256)   0           add_13[0][0]                     \n",
      "__________________________________________________________________________________________________\n",
      "conv2d_30 (Conv2D)              (None, 3, 7, 512)    131584      activation_29[0][0]              \n",
      "__________________________________________________________________________________________________\n",
      "batch_normalization_30 (BatchNo (None, 3, 7, 512)    2048        conv2d_30[0][0]                  \n",
      "__________________________________________________________________________________________________\n",
      "activation_30 (Activation)      (None, 3, 7, 512)    0           batch_normalization_30[0][0]     \n",
      "__________________________________________________________________________________________________\n",
      "conv2d_31 (Conv2D)              (None, 3, 7, 512)    2359808     activation_30[0][0]              \n",
      "__________________________________________________________________________________________________\n",
      "batch_normalization_31 (BatchNo (None, 3, 7, 512)    2048        conv2d_31[0][0]                  \n",
      "__________________________________________________________________________________________________\n",
      "conv2d_32 (Conv2D)              (None, 3, 7, 512)    131584      activation_29[0][0]              \n",
      "__________________________________________________________________________________________________\n",
      "activation_31 (Activation)      (None, 3, 7, 512)    0           batch_normalization_31[0][0]     \n",
      "__________________________________________________________________________________________________\n",
      "batch_normalization_32 (BatchNo (None, 3, 7, 512)    2048        conv2d_32[0][0]                  \n",
      "__________________________________________________________________________________________________\n",
      "add_14 (Add)                    (None, 3, 7, 512)    0           activation_31[0][0]              \n",
      "                                                                 batch_normalization_32[0][0]     \n",
      "__________________________________________________________________________________________________\n",
      "activation_32 (Activation)      (None, 3, 7, 512)    0           add_14[0][0]                     \n",
      "__________________________________________________________________________________________________\n",
      "conv2d_33 (Conv2D)              (None, 3, 7, 512)    262656      activation_32[0][0]              \n",
      "__________________________________________________________________________________________________\n",
      "batch_normalization_33 (BatchNo (None, 3, 7, 512)    2048        conv2d_33[0][0]                  \n",
      "__________________________________________________________________________________________________\n",
      "activation_33 (Activation)      (None, 3, 7, 512)    0           batch_normalization_33[0][0]     \n",
      "__________________________________________________________________________________________________\n",
      "conv2d_34 (Conv2D)              (None, 3, 7, 512)    2359808     activation_33[0][0]              \n",
      "__________________________________________________________________________________________________\n",
      "batch_normalization_34 (BatchNo (None, 3, 7, 512)    2048        conv2d_34[0][0]                  \n",
      "__________________________________________________________________________________________________\n",
      "add_15 (Add)                    (None, 3, 7, 512)    0           batch_normalization_34[0][0]     \n",
      "                                                                 activation_32[0][0]              \n",
      "__________________________________________________________________________________________________\n",
      "activation_34 (Activation)      (None, 3, 7, 512)    0           add_15[0][0]                     \n",
      "__________________________________________________________________________________________________\n",
      "conv2d_35 (Conv2D)              (None, 3, 7, 512)    262656      activation_34[0][0]              \n",
      "__________________________________________________________________________________________________\n",
      "batch_normalization_35 (BatchNo (None, 3, 7, 512)    2048        conv2d_35[0][0]                  \n",
      "__________________________________________________________________________________________________\n",
      "activation_35 (Activation)      (None, 3, 7, 512)    0           batch_normalization_35[0][0]     \n",
      "__________________________________________________________________________________________________\n",
      "conv2d_36 (Conv2D)              (None, 3, 7, 512)    2359808     activation_35[0][0]              \n",
      "__________________________________________________________________________________________________\n",
      "batch_normalization_36 (BatchNo (None, 3, 7, 512)    2048        conv2d_36[0][0]                  \n",
      "__________________________________________________________________________________________________\n",
      "add_16 (Add)                    (None, 3, 7, 512)    0           batch_normalization_36[0][0]     \n",
      "                                                                 activation_34[0][0]              \n",
      "__________________________________________________________________________________________________\n",
      "activation_36 (Activation)      (None, 3, 7, 512)    0           add_16[0][0]                     \n",
      "__________________________________________________________________________________________________\n",
      "avg_pool (AveragePooling2D)     (None, 1, 3, 512)    0           activation_36[0][0]              \n",
      "__________________________________________________________________________________________________\n",
      "flatten_1 (Flatten)             (None, 1536)         0           avg_pool[0][0]                   \n",
      "__________________________________________________________________________________________________\n",
      "fc4 (Dense)                     (None, 4)            6148        flatten_1[0][0]                  \n",
      "==================================================================================================\n",
      "Total params: 12,632,836\n",
      "Trainable params: 12,615,812\n",
      "Non-trainable params: 17,024\n",
      "__________________________________________________________________________________________________\n"
     ]
    }
   ],
   "source": [
    "model.summary()"
   ]
  },
  {
   "cell_type": "markdown",
   "metadata": {},
   "source": [
    "<h1>Train the model</h1>"
   ]
  },
  {
   "cell_type": "code",
   "execution_count": 34,
   "metadata": {},
   "outputs": [
    {
     "name": "stdout",
     "output_type": "stream",
     "text": [
      "WARNING:tensorflow:From D:\\Anaconda\\lib\\site-packages\\keras\\backend\\tensorflow_backend.py:422: The name tf.global_variables is deprecated. Please use tf.compat.v1.global_variables instead.\n",
      "\n",
      "Train on 5200 samples, validate on 2000 samples\n",
      "Epoch 1/10\n",
      "5200/5200 [==============================] - 860s 165ms/step - loss: 0.4565 - accuracy: 0.9294 - val_loss: 4.6794 - val_accuracy: 0.2500\n",
      "Epoch 2/10\n",
      "5200/5200 [==============================] - 619s 119ms/step - loss: 0.0616 - accuracy: 0.9810 - val_loss: 1.9575 - val_accuracy: 0.4120\n",
      "Epoch 3/10\n",
      "5200/5200 [==============================] - 639s 123ms/step - loss: 0.0403 - accuracy: 0.9873 - val_loss: 0.1732 - val_accuracy: 0.9600\n",
      "Epoch 4/10\n",
      "5200/5200 [==============================] - 601s 116ms/step - loss: 0.0390 - accuracy: 0.9888 - val_loss: 0.1332 - val_accuracy: 0.9700\n",
      "Epoch 5/10\n",
      "5200/5200 [==============================] - 588s 113ms/step - loss: 0.0240 - accuracy: 0.9927 - val_loss: 0.4285 - val_accuracy: 0.8810\n",
      "Epoch 6/10\n",
      "5200/5200 [==============================] - 589s 113ms/step - loss: 0.0191 - accuracy: 0.9938 - val_loss: 0.0790 - val_accuracy: 0.9820\n",
      "Epoch 7/10\n",
      "5200/5200 [==============================] - 586s 113ms/step - loss: 0.0141 - accuracy: 0.9950 - val_loss: 0.0980 - val_accuracy: 0.9735\n",
      "Epoch 8/10\n",
      "5200/5200 [==============================] - 631s 121ms/step - loss: 0.0245 - accuracy: 0.9917 - val_loss: 0.1195 - val_accuracy: 0.9770\n",
      "Epoch 9/10\n",
      "5200/5200 [==============================] - 601s 116ms/step - loss: 0.0302 - accuracy: 0.9929 - val_loss: 1.6468 - val_accuracy: 0.8330\n",
      "Epoch 10/10\n",
      "5200/5200 [==============================] - 592s 114ms/step - loss: 0.0181 - accuracy: 0.9954 - val_loss: 0.0532 - val_accuracy: 0.9895\n"
     ]
    },
    {
     "data": {
      "text/plain": [
       "<keras.callbacks.callbacks.History at 0x1c84100f588>"
      ]
     },
     "execution_count": 34,
     "metadata": {},
     "output_type": "execute_result"
    }
   ],
   "source": [
    "model.fit(train_x, train_y, validation_data=(test_x,test_y),epochs = 10, batch_size = 32)"
   ]
  },
  {
   "cell_type": "markdown",
   "metadata": {},
   "source": [
    "<h1>Evaluate and Visualize Metrics</h1>"
   ]
  },
  {
   "cell_type": "code",
   "execution_count": 35,
   "metadata": {},
   "outputs": [
    {
     "data": {
      "text/plain": [
       "['loss', 'accuracy']"
      ]
     },
     "execution_count": 35,
     "metadata": {},
     "output_type": "execute_result"
    }
   ],
   "source": [
    "model.metrics_names"
   ]
  },
  {
   "cell_type": "code",
   "execution_count": 36,
   "metadata": {},
   "outputs": [],
   "source": [
    "losses = pd.DataFrame(model.history.history)"
   ]
  },
  {
   "cell_type": "code",
   "execution_count": 37,
   "metadata": {},
   "outputs": [
    {
     "data": {
      "text/html": [
       "<div>\n",
       "<style scoped>\n",
       "    .dataframe tbody tr th:only-of-type {\n",
       "        vertical-align: middle;\n",
       "    }\n",
       "\n",
       "    .dataframe tbody tr th {\n",
       "        vertical-align: top;\n",
       "    }\n",
       "\n",
       "    .dataframe thead th {\n",
       "        text-align: right;\n",
       "    }\n",
       "</style>\n",
       "<table border=\"1\" class=\"dataframe\">\n",
       "  <thead>\n",
       "    <tr style=\"text-align: right;\">\n",
       "      <th></th>\n",
       "      <th>val_loss</th>\n",
       "      <th>val_accuracy</th>\n",
       "      <th>loss</th>\n",
       "      <th>accuracy</th>\n",
       "    </tr>\n",
       "  </thead>\n",
       "  <tbody>\n",
       "    <tr>\n",
       "      <th>0</th>\n",
       "      <td>4.679430</td>\n",
       "      <td>0.250</td>\n",
       "      <td>0.456454</td>\n",
       "      <td>0.929423</td>\n",
       "    </tr>\n",
       "    <tr>\n",
       "      <th>1</th>\n",
       "      <td>1.957531</td>\n",
       "      <td>0.412</td>\n",
       "      <td>0.061643</td>\n",
       "      <td>0.980962</td>\n",
       "    </tr>\n",
       "    <tr>\n",
       "      <th>2</th>\n",
       "      <td>0.173200</td>\n",
       "      <td>0.960</td>\n",
       "      <td>0.040272</td>\n",
       "      <td>0.987308</td>\n",
       "    </tr>\n",
       "    <tr>\n",
       "      <th>3</th>\n",
       "      <td>0.133247</td>\n",
       "      <td>0.970</td>\n",
       "      <td>0.038992</td>\n",
       "      <td>0.988846</td>\n",
       "    </tr>\n",
       "    <tr>\n",
       "      <th>4</th>\n",
       "      <td>0.428479</td>\n",
       "      <td>0.881</td>\n",
       "      <td>0.023956</td>\n",
       "      <td>0.992692</td>\n",
       "    </tr>\n",
       "  </tbody>\n",
       "</table>\n",
       "</div>"
      ],
      "text/plain": [
       "   val_loss  val_accuracy      loss  accuracy\n",
       "0  4.679430         0.250  0.456454  0.929423\n",
       "1  1.957531         0.412  0.061643  0.980962\n",
       "2  0.173200         0.960  0.040272  0.987308\n",
       "3  0.133247         0.970  0.038992  0.988846\n",
       "4  0.428479         0.881  0.023956  0.992692"
      ]
     },
     "execution_count": 37,
     "metadata": {},
     "output_type": "execute_result"
    }
   ],
   "source": [
    "losses.head()"
   ]
  },
  {
   "cell_type": "code",
   "execution_count": 38,
   "metadata": {},
   "outputs": [
    {
     "data": {
      "text/plain": [
       "<matplotlib.axes._subplots.AxesSubplot at 0x1c84649da08>"
      ]
     },
     "execution_count": 38,
     "metadata": {},
     "output_type": "execute_result"
    },
    {
     "data": {
      "image/png": "[encoded data removed]",
      "text/plain": [
       "<Figure size 432x288 with 1 Axes>"
      ]
     },
     "metadata": {
      "needs_background": "light"
     },
     "output_type": "display_data"
    }
   ],
   "source": [
    "losses[['accuracy','val_accuracy']].plot()"
   ]
  },
  {
   "cell_type": "code",
   "execution_count": 39,
   "metadata": {},
   "outputs": [],
   "source": [
    "model.save('ResNet34_with_shuffle_2.h5')"
   ]
  },
  {
   "cell_type": "markdown",
   "metadata": {},
   "source": [
    "<h1>Test the model on Sample Image</h1>"
   ]
  },
  {
   "cell_type": "code",
   "execution_count": 40,
   "metadata": {},
   "outputs": [],
   "source": [
    "from matplotlib.pyplot import imread"
   ]
  },
  {
   "cell_type": "code",
   "execution_count": 41,
   "metadata": {},
   "outputs": [
    {
     "name": "stdout",
     "output_type": "stream",
     "text": [
      "(1, 85, 225, 3)\n",
      "[[8.0703534e-12 9.6241090e-14 5.3250928e-11 1.0000000e+00]\n",
      " [3.3177772e-15 4.1763895e-15 1.0000000e+00 8.8777961e-12]\n",
      " [1.0099283e-09 1.0000000e+00 1.6519583e-10 3.2541865e-09]\n",
      " ...\n",
      " [2.7023026e-19 4.9513170e-18 1.0000000e+00 1.4120288e-12]\n",
      " [1.0000000e+00 1.5924084e-16 5.8386502e-15 5.6529732e-11]\n",
      " [3.9608580e-08 9.9999988e-01 3.4510943e-11 9.2631062e-08]]\n"
     ]
    },
    {
     "data": {
      "image/png": "[encoded data removed]",
      "text/plain": [
       "<Figure size 432x288 with 1 Axes>"
      ]
     },
     "metadata": {
      "needs_background": "light"
     },
     "output_type": "display_data"
    }
   ],
   "source": [
    "img_path = train_path+'\\\\climb'+'\\\\Image0.png'\n",
    "img = image.load_img(img_path, target_size = (85,225))\n",
    "x = image.img_to_array(img)\n",
    "x = np.expand_dims(x, axis=0)\n",
    "x = preprocess_input(x)\n",
    "print(x.shape)\n",
    "my_img = imread(img_path)\n",
    "imshow(my_img)\n",
    "predictions = model.predict(test_x)\n",
    "print(predictions)"
   ]
  },
  {
   "cell_type": "code",
   "execution_count": 42,
   "metadata": {},
   "outputs": [],
   "source": [
    "def prediction_classes(p):\n",
    "    max_value  = 0\n",
    "    maxi = 0\n",
    "    for i in range(4):\n",
    "        temp = p[i]\n",
    "        if temp>max_value:\n",
    "            max_value = temp\n",
    "            maxi = i\n",
    "    return maxi"
   ]
  },
  {
   "cell_type": "code",
   "execution_count": 43,
   "metadata": {},
   "outputs": [
    {
     "name": "stdout",
     "output_type": "stream",
     "text": [
      "[3, 2, 1, 3, 0, 0, 3, 1, 3, 2, 1, 3, 3, 2, 3, 0, 1, 1, 0, 3, 3, 3, 0, 1, 1, 1, 0, 1, 0, 2, 1, 3, 1, 1, 3, 1, 1, 3, 3, 0, 3, 3, 1, 2, 1, 0, 0, 0, 0, 3, 2, 0, 3, 3, 0, 3, 2, 0, 0, 0, 3, 3, 1, 2, 1, 1, 0, 0, 2, 1, 3, 2, 3, 3, 1, 1, 2, 1, 0, 1, 3, 2, 3, 1, 0, 0, 1, 0, 2, 2, 0, 3, 2, 0, 2, 1, 0, 2, 3, 2, 3, 1, 2, 2, 2, 3, 3, 2, 0, 2, 1, 0, 3, 1, 1, 2, 3, 0, 3, 3, 2, 3, 3, 3, 1, 3, 1, 3, 3, 3, 3, 3, 2, 0, 3, 3, 3, 1, 1, 2, 2, 1, 3, 2, 1, 3, 0, 0, 1, 3, 2, 1, 1, 2, 2, 2, 3, 3, 1, 1, 2, 2, 0, 2, 1, 0, 1, 1, 2, 1, 2, 0, 3, 0, 0, 0, 1, 2, 1, 1, 3, 2, 3, 2, 2, 1, 0, 3, 0, 0, 2, 0, 1, 0, 3, 3, 3, 2, 2, 1, 3, 2, 3, 1, 0, 0, 1, 2, 0, 1, 1, 1, 0, 2, 2, 0, 2, 3, 3, 1, 0, 3, 2, 0, 0, 0, 3, 3, 1, 1, 3, 1, 3, 1, 1, 1, 3, 3, 3, 0, 2, 2, 2, 1, 3, 2, 0, 1, 3, 2, 1, 2, 2, 1, 0, 1, 2, 1, 3, 3, 2, 2, 3, 2, 0, 3, 2, 3, 0, 2, 2, 0, 0, 0, 3, 2, 3, 0, 1, 3, 3, 3, 3, 1, 0, 0, 2, 3, 1, 0, 0, 3, 0, 1, 0, 0, 1, 0, 3, 0, 1, 0, 3, 2, 3, 2, 3, 2, 0, 3, 0, 3, 1, 1, 2, 1, 0, 3, 0, 3, 3, 2, 3, 0, 0, 2, 2, 3, 1, 1, 2, 3, 3, 3, 3, 2, 0, 2, 2, 3, 2, 3, 0, 0, 0, 0, 3, 1, 3, 3, 1, 1, 1, 0, 2, 0, 3, 2, 2, 1, 2, 2, 1, 0, 0, 0, 3, 3, 2, 0, 2, 2, 2, 3, 0, 2, 2, 2, 2, 0, 1, 0, 0, 2, 2, 0, 0, 3, 1, 0, 1, 0, 2, 3, 1, 3, 2, 1, 1, 0, 1, 3, 3, 3, 0, 1, 1, 2, 2, 1, 1, 3, 1, 3, 2, 0, 1, 0, 2, 2, 2, 3, 2, 3, 2, 3, 0, 1, 2, 1, 0, 1, 2, 3, 0, 0, 2, 0, 2, 0, 0, 1, 2, 3, 3, 1, 2, 3, 3, 1, 2, 0, 3, 1, 0, 2, 0, 0, 2, 2, 0, 2, 1, 1, 3, 1, 3, 0, 2, 1, 3, 3, 1, 2, 2, 3, 2, 0, 0, 3, 3, 3, 3, 2, 1, 1, 2, 2, 0, 1, 3, 0, 0, 1, 3, 0, 2, 1, 1, 1, 1, 0, 2, 2, 3, 2, 3, 0, 3, 2, 2, 1, 2, 2, 1, 1, 0, 2, 0, 2, 2, 0, 1, 3, 3, 3, 2, 2, 2, 3, 3, 1, 3, 1, 0, 3, 1, 3, 1, 0, 2, 1, 2, 0, 3, 0, 1, 1, 3, 2, 0, 2, 3, 1, 3, 1, 3, 3, 1, 3, 3, 0, 2, 2, 0, 3, 2, 1, 0, 1, 1, 2, 0, 0, 0, 1, 2, 3, 0, 0, 3, 1, 0, 3, 0, 3, 3, 0, 1, 1, 3, 1, 0, 1, 1, 1, 0, 3, 2, 0, 1, 2, 0, 3, 2, 1, 3, 2, 1, 1, 2, 2, 2, 2, 2, 1, 2, 1, 1, 3, 0, 3, 0, 3, 1, 0, 0, 3, 2, 0, 1, 0, 0, 1, 3, 0, 1, 3, 0, 3, 0, 3, 1, 2, 0, 2, 1, 1, 3, 3, 3, 1, 1, 2, 1, 3, 2, 0, 0, 2, 3, 3, 1, 3, 3, 2, 3, 1, 3, 2, 1, 3, 1, 0, 0, 0, 3, 0, 3, 2, 0, 1, 0, 0, 0, 0, 0, 1, 0, 2, 2, 2, 3, 2, 1, 3, 3, 2, 1, 3, 1, 1, 3, 0, 2, 2, 2, 1, 1, 2, 1, 3, 3, 0, 2, 0, 1, 1, 3, 2, 3, 0, 0, 1, 1, 1, 1, 2, 2, 3, 3, 2, 1, 2, 3, 1, 2, 0, 0, 1, 0, 2, 2, 0, 0, 2, 1, 3, 0, 0, 1, 1, 0, 1, 0, 1, 3, 0, 3, 2, 0, 1, 0, 3, 3, 1, 3, 1, 0, 2, 1, 0, 0, 0, 0, 2, 0, 0, 1, 2, 1, 1, 0, 2, 3, 2, 1, 3, 1, 0, 2, 0, 1, 3, 0, 2, 1, 2, 2, 2, 1, 2, 1, 0, 2, 1, 0, 0, 0, 3, 2, 1, 1, 3, 2, 1, 0, 2, 0, 0, 2, 2, 2, 2, 1, 2, 0, 1, 3, 3, 0, 1, 1, 3, 2, 2, 2, 3, 1, 3, 3, 3, 3, 2, 0, 1, 3, 1, 2, 2, 1, 0, 0, 3, 3, 1, 0, 3, 2, 3, 2, 3, 2, 2, 2, 2, 2, 1, 1, 3, 3, 1, 0, 1, 0, 2, 3, 0, 0, 2, 3, 2, 0, 1, 2, 0, 2, 3, 3, 0, 1, 0, 3, 1, 3, 2, 2, 2, 3, 2, 3, 3, 3, 0, 2, 3, 3, 0, 0, 3, 1, 1, 0, 2, 2, 0, 0, 1, 3, 2, 1, 0, 0, 3, 0, 3, 1, 0, 0, 2, 1, 2, 0, 1, 0, 3, 2, 1, 2, 3, 1, 3, 1, 2, 0, 0, 1, 0, 1, 0, 3, 0, 0, 1, 0, 3, 1, 3, 0, 3, 2, 3, 1, 3, 3, 0, 3, 0, 0, 0, 1, 1, 3, 3, 0, 0, 1, 3, 1, 1, 1, 3, 3, 2, 0, 1, 2, 1, 0, 1, 1, 2, 1, 2, 2, 1, 0, 3, 3, 2, 2, 0, 0, 2, 1, 1, 2, 2, 0, 1, 3, 0, 0, 1, 2, 0, 0, 0, 1, 0, 0, 1, 1, 0, 1, 0, 0, 2, 1, 2, 2, 0, 3, 2, 2, 0, 2, 3, 1, 3, 1, 0, 0, 1, 3, 3, 1, 3, 3, 3, 2, 2, 2, 1, 1, 2, 0, 2, 0, 2, 3, 1, 1, 3, 2, 1, 1, 1, 2, 0, 3, 1, 3, 3, 1, 0, 0, 2, 3, 3, 3, 1, 3, 1, 0, 0, 3, 2, 1, 2, 0, 0, 0, 3, 2, 1, 0, 1, 0, 2, 0, 2, 0, 3, 0, 1, 0, 1, 3, 1, 1, 3, 1, 1, 0, 1, 0, 1, 0, 0, 0, 3, 0, 0, 1, 2, 0, 3, 0, 3, 2, 3, 3, 3, 1, 3, 3, 1, 0, 2, 0, 1, 2, 0, 3, 1, 1, 0, 2, 2, 0, 2, 3, 2, 1, 3, 1, 3, 2, 3, 0, 2, 0, 0, 1, 0, 0, 0, 0, 1, 2, 3, 0, 3, 3, 0, 1, 0, 3, 1, 2, 0, 0, 0, 2, 1, 0, 2, 2, 0, 1, 3, 0, 2, 2, 2, 2, 0, 0, 3, 1, 2, 2, 2, 1, 1, 2, 1, 1, 2, 2, 1, 1, 1, 2, 2, 2, 2, 2, 0, 0, 2, 1, 2, 1, 3, 1, 1, 3, 1, 3, 3, 1, 0, 3, 0, 3, 2, 2, 2, 1, 0, 1, 1, 2, 1, 1, 2, 2, 1, 3, 1, 2, 3, 3, 1, 2, 0, 1, 0, 3, 0, 2, 2, 2, 2, 0, 0, 2, 2, 2, 0, 2, 2, 2, 0, 0, 2, 1, 3, 1, 3, 1, 2, 3, 2, 0, 3, 2, 2, 0, 2, 3, 0, 1, 1, 3, 3, 0, 3, 1, 2, 0, 0, 2, 0, 0, 1, 0, 2, 1, 1, 0, 1, 0, 1, 0, 1, 1, 3, 2, 0, 3, 3, 2, 2, 2, 0, 1, 2, 2, 0, 1, 3, 1, 0, 3, 2, 0, 2, 0, 3, 2, 3, 2, 1, 2, 2, 1, 0, 1, 1, 1, 1, 0, 0, 0, 1, 1, 3, 3, 2, 3, 3, 0, 2, 2, 2, 2, 2, 1, 3, 3, 0, 2, 2, 1, 3, 0, 0, 2, 1, 0, 2, 2, 3, 2, 0, 2, 3, 3, 3, 1, 1, 0, 1, 3, 3, 0, 0, 1, 3, 3, 0, 1, 1, 0, 0, 0, 0, 0, 2, 0, 0, 0, 2, 3, 2, 2, 0, 0, 1, 1, 1, 0, 3, 2, 2, 1, 0, 0, 1, 3, 3, 0, 1, 0, 2, 1, 2, 3, 2, 1, 0, 0, 3, 3, 0, 2, 1, 1, 0, 2, 2, 0, 0, 1, 2, 2, 3, 3, 1, 3, 2, 1, 2, 1, 0, 2, 1, 1, 3, 2, 2, 3, 0, 2, 2, 3, 3, 0, 1, 2, 3, 2, 3, 3, 2, 0, 0, 3, 2, 1, 2, 2, 1, 2, 1, 0, 2, 1, 3, 0, 2, 1, 2, 0, 1, 1, 3, 3, 3, 3, 1, 1, 2, 0, 0, 2, 0, 3, 1, 2, 1, 0, 3, 3, 1, 1, 3, 3, 3, 0, 0, 2, 3, 3, 3, 2, 2, 2, 0, 3, 1, 3, 2, 0, 2, 0, 3, 1, 2, 2, 3, 2, 2, 2, 0, 1, 0, 0, 2, 1, 0, 3, 1, 3, 0, 3, 3, 2, 1, 1, 3, 3, 2, 0, 3, 0, 3, 2, 0, 2, 2, 3, 0, 3, 3, 0, 0, 2, 2, 3, 2, 1, 3, 2, 2, 2, 3, 1, 1, 3, 2, 0, 2, 0, 1, 0, 2, 3, 1, 1, 0, 0, 0, 0, 1, 3, 1, 0, 3, 0, 1, 2, 1, 0, 1, 2, 3, 3, 2, 3, 0, 3, 1, 2, 0, 0, 0, 3, 0, 1, 0, 3, 1, 3, 0, 2, 0, 1, 3, 1, 0, 0, 3, 1, 0, 3, 0, 0, 3, 0, 3, 3, 3, 1, 3, 0, 1, 0, 2, 3, 2, 0, 0, 3, 2, 2, 1, 2, 1, 1, 2, 2, 3, 1, 2, 0, 2, 2, 0, 0, 3, 2, 3, 2, 0, 1, 3, 1, 1, 2, 1, 3, 1, 2, 2, 1, 2, 3, 0, 0, 2, 1, 1, 0, 2, 3, 1, 0, 1, 0, 2, 1, 2, 0, 3, 2, 0, 1, 3, 0, 3, 3, 2, 0, 0, 2, 1, 3, 0, 1, 0, 2, 3, 3, 1, 2, 2, 2, 3, 3, 0, 0, 0, 0, 3, 1, 2, 2, 3, 0, 3, 3, 0, 3, 2, 2, 3, 1, 1, 0, 2, 3, 1, 1, 2, 3, 3, 0, 1, 0, 0, 2, 1, 0, 3, 0, 0, 2, 3, 1, 3, 0, 3, 1, 0, 3, 1, 0, 0, 3, 1, 2, 2, 3, 0, 1, 0, 2, 0, 2, 2, 1, 1, 1, 2, 0, 3, 1, 3, 3, 1, 3, 1, 1, 2, 0, 1, 1, 0, 3, 2, 3, 3, 3, 0, 3, 3, 3, 2, 0, 2, 1, 0, 2, 1, 3, 0, 0, 3, 0, 2, 2, 0, 2, 0, 1, 2, 3, 3, 0, 1, 2, 3, 3, 0, 3, 3, 3, 2, 0, 1, 3, 2, 1, 2, 3, 0, 0, 1, 3, 1, 2, 2, 3, 1, 1, 2, 1, 3, 2, 2, 2, 3, 1, 3, 0, 3, 3, 2, 1, 3, 0, 1, 3, 3, 0, 3, 1, 1, 2, 0, 1, 1, 0, 3, 1, 3, 3, 1, 3, 2, 1, 1, 2, 0, 1, 2, 2, 1, 1, 1, 0, 0, 0, 3, 0, 3, 3, 0, 0, 0, 3, 3, 1, 1, 1, 1, 1, 0, 3, 3, 2, 1, 2, 1, 0, 2, 0, 1, 0, 3, 1, 2, 2, 1, 2, 1, 2, 1, 1, 3, 0, 3, 2, 3, 3, 1, 1, 3, 3, 3, 1, 1, 2, 2, 1, 3, 0, 3, 3, 2, 3, 1, 3, 2, 0, 1]\n"
     ]
    }
   ],
   "source": [
    "predictions = np.array(predictions)\n",
    "predictions = map(prediction_classes, predictions)\n",
    "\n",
    "pred = list(predictions)\n",
    "print(pred)"
   ]
  },
  {
   "cell_type": "code",
   "execution_count": 44,
   "metadata": {},
   "outputs": [
    {
     "name": "stdout",
     "output_type": "stream",
     "text": [
      "[3 2 1 ... 2 0 1]\n"
     ]
    }
   ],
   "source": [
    "pred = np.array(pred)\n",
    "print(pred)"
   ]
  },
  {
   "cell_type": "code",
   "execution_count": 45,
   "metadata": {},
   "outputs": [],
   "source": [
    "from sklearn.metrics import classification_report,confusion_matrix"
   ]
  },
  {
   "cell_type": "code",
   "execution_count": 46,
   "metadata": {},
   "outputs": [
    {
     "name": "stdout",
     "output_type": "stream",
     "text": [
      "              precision    recall  f1-score   support\n",
      "\n",
      "           0       0.98      1.00      0.99       500\n",
      "           1       1.00      0.99      1.00       500\n",
      "           2       0.99      0.98      0.98       500\n",
      "           3       0.98      0.99      0.99       500\n",
      "\n",
      "    accuracy                           0.99      2000\n",
      "   macro avg       0.99      0.99      0.99      2000\n",
      "weighted avg       0.99      0.99      0.99      2000\n",
      "\n"
     ]
    }
   ],
   "source": [
    "print(classification_report(test_y_cat,pred))"
   ]
  },
  {
   "cell_type": "code",
   "execution_count": 47,
   "metadata": {},
   "outputs": [
    {
     "data": {
      "text/plain": [
       "array([[498,   0,   1,   1],\n",
       "       [  2, 496,   2,   0],\n",
       "       [  4,   0, 489,   7],\n",
       "       [  2,   0,   2, 496]], dtype=int64)"
      ]
     },
     "execution_count": 47,
     "metadata": {},
     "output_type": "execute_result"
    }
   ],
   "source": [
    "confusion_matrix(test_y_cat,pred)"
   ]
  },
  {
   "cell_type": "code",
   "execution_count": null,
   "metadata": {},
   "outputs": [],
   "source": []
  }
 ],
 "metadata": {
  "kernelspec": {
   "display_name": "Python 3",
   "language": "python",
   "name": "python3"
  },
  "language_info": {
   "codemirror_mode": {
    "name": "ipython",
    "version": 3
   },
   "file_extension": ".py",
   "mimetype": "text/x-python",
   "name": "python",
   "nbconvert_exporter": "python",
   "pygments_lexer": "ipython3",
   "version": "3.6.6"
  }
 },
 "nbformat": 4,
 "nbformat_minor": 4
}
