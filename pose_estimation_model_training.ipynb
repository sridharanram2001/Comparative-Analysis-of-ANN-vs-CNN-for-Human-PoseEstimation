{
 "cells": [
  {
   "cell_type": "code",
   "execution_count": 51,
   "metadata": {},
   "outputs": [],
   "source": [
    "import pandas as pd\n",
    "import numpy as np\n",
    "#import tensorflow as tf\n",
    "import matplotlib.pyplot as plt"
   ]
  },
  {
   "cell_type": "code",
   "execution_count": 52,
   "metadata": {},
   "outputs": [],
   "source": [
    "df = pd.read_csv('../DATA/dataset_stick_figure9.csv')"
   ]
  },
  {
   "cell_type": "markdown",
   "metadata": {},
   "source": [
    "# Data Preprocessing"
   ]
  },
  {
   "cell_type": "code",
   "execution_count": 53,
   "metadata": {},
   "outputs": [
    {
     "data": {
      "text/html": [
       "<div>\n",
       "<style scoped>\n",
       "    .dataframe tbody tr th:only-of-type {\n",
       "        vertical-align: middle;\n",
       "    }\n",
       "\n",
       "    .dataframe tbody tr th {\n",
       "        vertical-align: top;\n",
       "    }\n",
       "\n",
       "    .dataframe thead th {\n",
       "        text-align: right;\n",
       "    }\n",
       "</style>\n",
       "<table border=\"1\" class=\"dataframe\">\n",
       "  <thead>\n",
       "    <tr style=\"text-align: right;\">\n",
       "      <th></th>\n",
       "      <th>x1</th>\n",
       "      <th>y1</th>\n",
       "      <th>x2</th>\n",
       "      <th>y2</th>\n",
       "      <th>x3</th>\n",
       "      <th>y3</th>\n",
       "      <th>x4</th>\n",
       "      <th>y4</th>\n",
       "      <th>x5</th>\n",
       "      <th>y5</th>\n",
       "      <th>...</th>\n",
       "      <th>y29</th>\n",
       "      <th>x30</th>\n",
       "      <th>y30</th>\n",
       "      <th>x31</th>\n",
       "      <th>y31</th>\n",
       "      <th>x32</th>\n",
       "      <th>y32</th>\n",
       "      <th>x33</th>\n",
       "      <th>y33</th>\n",
       "      <th>y</th>\n",
       "    </tr>\n",
       "  </thead>\n",
       "  <tbody>\n",
       "    <tr>\n",
       "      <th>0</th>\n",
       "      <td>512</td>\n",
       "      <td>94</td>\n",
       "      <td>510</td>\n",
       "      <td>90</td>\n",
       "      <td>508</td>\n",
       "      <td>91</td>\n",
       "      <td>505</td>\n",
       "      <td>91</td>\n",
       "      <td>516</td>\n",
       "      <td>91</td>\n",
       "      <td>...</td>\n",
       "      <td>342</td>\n",
       "      <td>492</td>\n",
       "      <td>346</td>\n",
       "      <td>522</td>\n",
       "      <td>345</td>\n",
       "      <td>489</td>\n",
       "      <td>342</td>\n",
       "      <td>534</td>\n",
       "      <td>361</td>\n",
       "      <td>n</td>\n",
       "    </tr>\n",
       "    <tr>\n",
       "      <th>1</th>\n",
       "      <td>511</td>\n",
       "      <td>94</td>\n",
       "      <td>508</td>\n",
       "      <td>90</td>\n",
       "      <td>506</td>\n",
       "      <td>91</td>\n",
       "      <td>504</td>\n",
       "      <td>91</td>\n",
       "      <td>514</td>\n",
       "      <td>91</td>\n",
       "      <td>...</td>\n",
       "      <td>358</td>\n",
       "      <td>494</td>\n",
       "      <td>370</td>\n",
       "      <td>521</td>\n",
       "      <td>369</td>\n",
       "      <td>491</td>\n",
       "      <td>361</td>\n",
       "      <td>526</td>\n",
       "      <td>362</td>\n",
       "      <td>n</td>\n",
       "    </tr>\n",
       "    <tr>\n",
       "      <th>2</th>\n",
       "      <td>510</td>\n",
       "      <td>95</td>\n",
       "      <td>506</td>\n",
       "      <td>91</td>\n",
       "      <td>504</td>\n",
       "      <td>91</td>\n",
       "      <td>502</td>\n",
       "      <td>91</td>\n",
       "      <td>513</td>\n",
       "      <td>91</td>\n",
       "      <td>...</td>\n",
       "      <td>360</td>\n",
       "      <td>495</td>\n",
       "      <td>371</td>\n",
       "      <td>522</td>\n",
       "      <td>371</td>\n",
       "      <td>491</td>\n",
       "      <td>362</td>\n",
       "      <td>523</td>\n",
       "      <td>362</td>\n",
       "      <td>n</td>\n",
       "    </tr>\n",
       "    <tr>\n",
       "      <th>3</th>\n",
       "      <td>509</td>\n",
       "      <td>95</td>\n",
       "      <td>506</td>\n",
       "      <td>91</td>\n",
       "      <td>504</td>\n",
       "      <td>91</td>\n",
       "      <td>502</td>\n",
       "      <td>91</td>\n",
       "      <td>512</td>\n",
       "      <td>91</td>\n",
       "      <td>...</td>\n",
       "      <td>360</td>\n",
       "      <td>496</td>\n",
       "      <td>372</td>\n",
       "      <td>522</td>\n",
       "      <td>371</td>\n",
       "      <td>490</td>\n",
       "      <td>361</td>\n",
       "      <td>522</td>\n",
       "      <td>362</td>\n",
       "      <td>n</td>\n",
       "    </tr>\n",
       "    <tr>\n",
       "      <th>4</th>\n",
       "      <td>509</td>\n",
       "      <td>95</td>\n",
       "      <td>505</td>\n",
       "      <td>91</td>\n",
       "      <td>503</td>\n",
       "      <td>91</td>\n",
       "      <td>501</td>\n",
       "      <td>91</td>\n",
       "      <td>511</td>\n",
       "      <td>91</td>\n",
       "      <td>...</td>\n",
       "      <td>361</td>\n",
       "      <td>496</td>\n",
       "      <td>372</td>\n",
       "      <td>522</td>\n",
       "      <td>372</td>\n",
       "      <td>490</td>\n",
       "      <td>363</td>\n",
       "      <td>522</td>\n",
       "      <td>362</td>\n",
       "      <td>n</td>\n",
       "    </tr>\n",
       "  </tbody>\n",
       "</table>\n",
       "<p>5 rows × 67 columns</p>\n",
       "</div>"
      ],
      "text/plain": [
       "    x1  y1   x2  y2   x3  y3   x4  y4   x5  y5  ...  y29  x30  y30  x31  y31  \\\n",
       "0  512  94  510  90  508  91  505  91  516  91  ...  342  492  346  522  345   \n",
       "1  511  94  508  90  506  91  504  91  514  91  ...  358  494  370  521  369   \n",
       "2  510  95  506  91  504  91  502  91  513  91  ...  360  495  371  522  371   \n",
       "3  509  95  506  91  504  91  502  91  512  91  ...  360  496  372  522  371   \n",
       "4  509  95  505  91  503  91  501  91  511  91  ...  361  496  372  522  372   \n",
       "\n",
       "   x32  y32  x33  y33  y  \n",
       "0  489  342  534  361  n  \n",
       "1  491  361  526  362  n  \n",
       "2  491  362  523  362  n  \n",
       "3  490  361  522  362  n  \n",
       "4  490  363  522  362  n  \n",
       "\n",
       "[5 rows x 67 columns]"
      ]
     },
     "execution_count": 53,
     "metadata": {},
     "output_type": "execute_result"
    }
   ],
   "source": [
    "df.head()"
   ]
  },
  {
   "cell_type": "code",
   "execution_count": 54,
   "metadata": {},
   "outputs": [
    {
     "data": {
      "text/plain": [
       "x1     0\n",
       "y1     0\n",
       "x2     0\n",
       "y2     0\n",
       "x3     0\n",
       "      ..\n",
       "x32    0\n",
       "y32    0\n",
       "x33    0\n",
       "y33    0\n",
       "y      0\n",
       "Length: 67, dtype: int64"
      ]
     },
     "execution_count": 54,
     "metadata": {},
     "output_type": "execute_result"
    }
   ],
   "source": [
    "df.isnull().sum()"
   ]
  },
  {
   "cell_type": "code",
   "execution_count": 55,
   "metadata": {},
   "outputs": [],
   "source": [
    "#df = df.sample(frac = 1)"
   ]
  },
  {
   "cell_type": "code",
   "execution_count": 56,
   "metadata": {},
   "outputs": [],
   "source": [
    "df['pose'] = df['y'].map({\"c\":0,\"r\":1,\"n\":2,\"q\":3})"
   ]
  },
  {
   "cell_type": "code",
   "execution_count": 57,
   "metadata": {},
   "outputs": [
    {
     "data": {
      "text/plain": [
       "0        2\n",
       "1        2\n",
       "2        2\n",
       "3        2\n",
       "4        2\n",
       "        ..\n",
       "71518    1\n",
       "71519    1\n",
       "71520    1\n",
       "71521    1\n",
       "71522    1\n",
       "Name: pose, Length: 71523, dtype: int64"
      ]
     },
     "execution_count": 57,
     "metadata": {},
     "output_type": "execute_result"
    }
   ],
   "source": [
    "df['pose']"
   ]
  },
  {
   "cell_type": "code",
   "execution_count": 58,
   "metadata": {},
   "outputs": [
    {
     "data": {
      "text/html": [
       "<div>\n",
       "<style scoped>\n",
       "    .dataframe tbody tr th:only-of-type {\n",
       "        vertical-align: middle;\n",
       "    }\n",
       "\n",
       "    .dataframe tbody tr th {\n",
       "        vertical-align: top;\n",
       "    }\n",
       "\n",
       "    .dataframe thead th {\n",
       "        text-align: right;\n",
       "    }\n",
       "</style>\n",
       "<table border=\"1\" class=\"dataframe\">\n",
       "  <thead>\n",
       "    <tr style=\"text-align: right;\">\n",
       "      <th></th>\n",
       "      <th>x1</th>\n",
       "      <th>y1</th>\n",
       "      <th>x2</th>\n",
       "      <th>y2</th>\n",
       "      <th>x3</th>\n",
       "      <th>y3</th>\n",
       "      <th>x4</th>\n",
       "      <th>y4</th>\n",
       "      <th>x5</th>\n",
       "      <th>y5</th>\n",
       "      <th>...</th>\n",
       "      <th>x30</th>\n",
       "      <th>y30</th>\n",
       "      <th>x31</th>\n",
       "      <th>y31</th>\n",
       "      <th>x32</th>\n",
       "      <th>y32</th>\n",
       "      <th>x33</th>\n",
       "      <th>y33</th>\n",
       "      <th>y</th>\n",
       "      <th>pose</th>\n",
       "    </tr>\n",
       "  </thead>\n",
       "  <tbody>\n",
       "    <tr>\n",
       "      <th>0</th>\n",
       "      <td>512</td>\n",
       "      <td>94</td>\n",
       "      <td>510</td>\n",
       "      <td>90</td>\n",
       "      <td>508</td>\n",
       "      <td>91</td>\n",
       "      <td>505</td>\n",
       "      <td>91</td>\n",
       "      <td>516</td>\n",
       "      <td>91</td>\n",
       "      <td>...</td>\n",
       "      <td>492</td>\n",
       "      <td>346</td>\n",
       "      <td>522</td>\n",
       "      <td>345</td>\n",
       "      <td>489</td>\n",
       "      <td>342</td>\n",
       "      <td>534</td>\n",
       "      <td>361</td>\n",
       "      <td>n</td>\n",
       "      <td>2</td>\n",
       "    </tr>\n",
       "    <tr>\n",
       "      <th>1</th>\n",
       "      <td>511</td>\n",
       "      <td>94</td>\n",
       "      <td>508</td>\n",
       "      <td>90</td>\n",
       "      <td>506</td>\n",
       "      <td>91</td>\n",
       "      <td>504</td>\n",
       "      <td>91</td>\n",
       "      <td>514</td>\n",
       "      <td>91</td>\n",
       "      <td>...</td>\n",
       "      <td>494</td>\n",
       "      <td>370</td>\n",
       "      <td>521</td>\n",
       "      <td>369</td>\n",
       "      <td>491</td>\n",
       "      <td>361</td>\n",
       "      <td>526</td>\n",
       "      <td>362</td>\n",
       "      <td>n</td>\n",
       "      <td>2</td>\n",
       "    </tr>\n",
       "    <tr>\n",
       "      <th>2</th>\n",
       "      <td>510</td>\n",
       "      <td>95</td>\n",
       "      <td>506</td>\n",
       "      <td>91</td>\n",
       "      <td>504</td>\n",
       "      <td>91</td>\n",
       "      <td>502</td>\n",
       "      <td>91</td>\n",
       "      <td>513</td>\n",
       "      <td>91</td>\n",
       "      <td>...</td>\n",
       "      <td>495</td>\n",
       "      <td>371</td>\n",
       "      <td>522</td>\n",
       "      <td>371</td>\n",
       "      <td>491</td>\n",
       "      <td>362</td>\n",
       "      <td>523</td>\n",
       "      <td>362</td>\n",
       "      <td>n</td>\n",
       "      <td>2</td>\n",
       "    </tr>\n",
       "    <tr>\n",
       "      <th>3</th>\n",
       "      <td>509</td>\n",
       "      <td>95</td>\n",
       "      <td>506</td>\n",
       "      <td>91</td>\n",
       "      <td>504</td>\n",
       "      <td>91</td>\n",
       "      <td>502</td>\n",
       "      <td>91</td>\n",
       "      <td>512</td>\n",
       "      <td>91</td>\n",
       "      <td>...</td>\n",
       "      <td>496</td>\n",
       "      <td>372</td>\n",
       "      <td>522</td>\n",
       "      <td>371</td>\n",
       "      <td>490</td>\n",
       "      <td>361</td>\n",
       "      <td>522</td>\n",
       "      <td>362</td>\n",
       "      <td>n</td>\n",
       "      <td>2</td>\n",
       "    </tr>\n",
       "    <tr>\n",
       "      <th>4</th>\n",
       "      <td>509</td>\n",
       "      <td>95</td>\n",
       "      <td>505</td>\n",
       "      <td>91</td>\n",
       "      <td>503</td>\n",
       "      <td>91</td>\n",
       "      <td>501</td>\n",
       "      <td>91</td>\n",
       "      <td>511</td>\n",
       "      <td>91</td>\n",
       "      <td>...</td>\n",
       "      <td>496</td>\n",
       "      <td>372</td>\n",
       "      <td>522</td>\n",
       "      <td>372</td>\n",
       "      <td>490</td>\n",
       "      <td>363</td>\n",
       "      <td>522</td>\n",
       "      <td>362</td>\n",
       "      <td>n</td>\n",
       "      <td>2</td>\n",
       "    </tr>\n",
       "  </tbody>\n",
       "</table>\n",
       "<p>5 rows × 68 columns</p>\n",
       "</div>"
      ],
      "text/plain": [
       "    x1  y1   x2  y2   x3  y3   x4  y4   x5  y5  ...  x30  y30  x31  y31  x32  \\\n",
       "0  512  94  510  90  508  91  505  91  516  91  ...  492  346  522  345  489   \n",
       "1  511  94  508  90  506  91  504  91  514  91  ...  494  370  521  369  491   \n",
       "2  510  95  506  91  504  91  502  91  513  91  ...  495  371  522  371  491   \n",
       "3  509  95  506  91  504  91  502  91  512  91  ...  496  372  522  371  490   \n",
       "4  509  95  505  91  503  91  501  91  511  91  ...  496  372  522  372  490   \n",
       "\n",
       "   y32  x33  y33  y  pose  \n",
       "0  342  534  361  n     2  \n",
       "1  361  526  362  n     2  \n",
       "2  362  523  362  n     2  \n",
       "3  361  522  362  n     2  \n",
       "4  363  522  362  n     2  \n",
       "\n",
       "[5 rows x 68 columns]"
      ]
     },
     "execution_count": 58,
     "metadata": {},
     "output_type": "execute_result"
    }
   ],
   "source": [
    "df.head()"
   ]
  },
  {
   "cell_type": "code",
   "execution_count": 59,
   "metadata": {},
   "outputs": [],
   "source": [
    "df = df.drop(['y'],axis=1)"
   ]
  },
  {
   "cell_type": "code",
   "execution_count": 60,
   "metadata": {},
   "outputs": [],
   "source": [
    "#df = df.astype(int)"
   ]
  },
  {
   "cell_type": "code",
   "execution_count": 61,
   "metadata": {},
   "outputs": [
    {
     "data": {
      "text/html": [
       "<div>\n",
       "<style scoped>\n",
       "    .dataframe tbody tr th:only-of-type {\n",
       "        vertical-align: middle;\n",
       "    }\n",
       "\n",
       "    .dataframe tbody tr th {\n",
       "        vertical-align: top;\n",
       "    }\n",
       "\n",
       "    .dataframe thead th {\n",
       "        text-align: right;\n",
       "    }\n",
       "</style>\n",
       "<table border=\"1\" class=\"dataframe\">\n",
       "  <thead>\n",
       "    <tr style=\"text-align: right;\">\n",
       "      <th></th>\n",
       "      <th>x1</th>\n",
       "      <th>y1</th>\n",
       "      <th>x2</th>\n",
       "      <th>y2</th>\n",
       "      <th>x3</th>\n",
       "      <th>y3</th>\n",
       "      <th>x4</th>\n",
       "      <th>y4</th>\n",
       "      <th>x5</th>\n",
       "      <th>y5</th>\n",
       "      <th>...</th>\n",
       "      <th>y29</th>\n",
       "      <th>x30</th>\n",
       "      <th>y30</th>\n",
       "      <th>x31</th>\n",
       "      <th>y31</th>\n",
       "      <th>x32</th>\n",
       "      <th>y32</th>\n",
       "      <th>x33</th>\n",
       "      <th>y33</th>\n",
       "      <th>pose</th>\n",
       "    </tr>\n",
       "  </thead>\n",
       "  <tbody>\n",
       "    <tr>\n",
       "      <th>0</th>\n",
       "      <td>512</td>\n",
       "      <td>94</td>\n",
       "      <td>510</td>\n",
       "      <td>90</td>\n",
       "      <td>508</td>\n",
       "      <td>91</td>\n",
       "      <td>505</td>\n",
       "      <td>91</td>\n",
       "      <td>516</td>\n",
       "      <td>91</td>\n",
       "      <td>...</td>\n",
       "      <td>342</td>\n",
       "      <td>492</td>\n",
       "      <td>346</td>\n",
       "      <td>522</td>\n",
       "      <td>345</td>\n",
       "      <td>489</td>\n",
       "      <td>342</td>\n",
       "      <td>534</td>\n",
       "      <td>361</td>\n",
       "      <td>2</td>\n",
       "    </tr>\n",
       "    <tr>\n",
       "      <th>1</th>\n",
       "      <td>511</td>\n",
       "      <td>94</td>\n",
       "      <td>508</td>\n",
       "      <td>90</td>\n",
       "      <td>506</td>\n",
       "      <td>91</td>\n",
       "      <td>504</td>\n",
       "      <td>91</td>\n",
       "      <td>514</td>\n",
       "      <td>91</td>\n",
       "      <td>...</td>\n",
       "      <td>358</td>\n",
       "      <td>494</td>\n",
       "      <td>370</td>\n",
       "      <td>521</td>\n",
       "      <td>369</td>\n",
       "      <td>491</td>\n",
       "      <td>361</td>\n",
       "      <td>526</td>\n",
       "      <td>362</td>\n",
       "      <td>2</td>\n",
       "    </tr>\n",
       "    <tr>\n",
       "      <th>2</th>\n",
       "      <td>510</td>\n",
       "      <td>95</td>\n",
       "      <td>506</td>\n",
       "      <td>91</td>\n",
       "      <td>504</td>\n",
       "      <td>91</td>\n",
       "      <td>502</td>\n",
       "      <td>91</td>\n",
       "      <td>513</td>\n",
       "      <td>91</td>\n",
       "      <td>...</td>\n",
       "      <td>360</td>\n",
       "      <td>495</td>\n",
       "      <td>371</td>\n",
       "      <td>522</td>\n",
       "      <td>371</td>\n",
       "      <td>491</td>\n",
       "      <td>362</td>\n",
       "      <td>523</td>\n",
       "      <td>362</td>\n",
       "      <td>2</td>\n",
       "    </tr>\n",
       "    <tr>\n",
       "      <th>3</th>\n",
       "      <td>509</td>\n",
       "      <td>95</td>\n",
       "      <td>506</td>\n",
       "      <td>91</td>\n",
       "      <td>504</td>\n",
       "      <td>91</td>\n",
       "      <td>502</td>\n",
       "      <td>91</td>\n",
       "      <td>512</td>\n",
       "      <td>91</td>\n",
       "      <td>...</td>\n",
       "      <td>360</td>\n",
       "      <td>496</td>\n",
       "      <td>372</td>\n",
       "      <td>522</td>\n",
       "      <td>371</td>\n",
       "      <td>490</td>\n",
       "      <td>361</td>\n",
       "      <td>522</td>\n",
       "      <td>362</td>\n",
       "      <td>2</td>\n",
       "    </tr>\n",
       "    <tr>\n",
       "      <th>4</th>\n",
       "      <td>509</td>\n",
       "      <td>95</td>\n",
       "      <td>505</td>\n",
       "      <td>91</td>\n",
       "      <td>503</td>\n",
       "      <td>91</td>\n",
       "      <td>501</td>\n",
       "      <td>91</td>\n",
       "      <td>511</td>\n",
       "      <td>91</td>\n",
       "      <td>...</td>\n",
       "      <td>361</td>\n",
       "      <td>496</td>\n",
       "      <td>372</td>\n",
       "      <td>522</td>\n",
       "      <td>372</td>\n",
       "      <td>490</td>\n",
       "      <td>363</td>\n",
       "      <td>522</td>\n",
       "      <td>362</td>\n",
       "      <td>2</td>\n",
       "    </tr>\n",
       "  </tbody>\n",
       "</table>\n",
       "<p>5 rows × 67 columns</p>\n",
       "</div>"
      ],
      "text/plain": [
       "    x1  y1   x2  y2   x3  y3   x4  y4   x5  y5  ...  y29  x30  y30  x31  y31  \\\n",
       "0  512  94  510  90  508  91  505  91  516  91  ...  342  492  346  522  345   \n",
       "1  511  94  508  90  506  91  504  91  514  91  ...  358  494  370  521  369   \n",
       "2  510  95  506  91  504  91  502  91  513  91  ...  360  495  371  522  371   \n",
       "3  509  95  506  91  504  91  502  91  512  91  ...  360  496  372  522  371   \n",
       "4  509  95  505  91  503  91  501  91  511  91  ...  361  496  372  522  372   \n",
       "\n",
       "   x32  y32  x33  y33  pose  \n",
       "0  489  342  534  361     2  \n",
       "1  491  361  526  362     2  \n",
       "2  491  362  523  362     2  \n",
       "3  490  361  522  362     2  \n",
       "4  490  363  522  362     2  \n",
       "\n",
       "[5 rows x 67 columns]"
      ]
     },
     "execution_count": 61,
     "metadata": {},
     "output_type": "execute_result"
    }
   ],
   "source": [
    "df.head()"
   ]
  },
  {
   "cell_type": "markdown",
   "metadata": {},
   "source": [
    "One hot encoding and train_test split"
   ]
  },
  {
   "cell_type": "code",
   "execution_count": 63,
   "metadata": {},
   "outputs": [],
   "source": [
    "from sklearn.model_selection import train_test_split"
   ]
  },
  {
   "cell_type": "code",
   "execution_count": 64,
   "metadata": {},
   "outputs": [],
   "source": [
    "X = df.drop('pose',axis=1).values\n",
    "y = df['pose'].values"
   ]
  },
  {
   "cell_type": "code",
   "execution_count": 65,
   "metadata": {},
   "outputs": [
    {
     "name": "stdout",
     "output_type": "stream",
     "text": [
      "71523\n"
     ]
    }
   ],
   "source": [
    "print(len(df))"
   ]
  },
  {
   "cell_type": "code",
   "execution_count": 66,
   "metadata": {},
   "outputs": [],
   "source": []
  },
  {
   "cell_type": "code",
   "execution_count": 67,
   "metadata": {},
   "outputs": [],
   "source": [
    "from tensorflow.keras.utils import to_categorical"
   ]
  },
  {
   "cell_type": "code",
   "execution_count": 70,
   "metadata": {},
   "outputs": [],
   "source": [
    "X_train, X_test, y_train, y_test = train_test_split(X, y, test_size=0.3, random_state=101)"
   ]
  },
  {
   "cell_type": "code",
   "execution_count": 71,
   "metadata": {},
   "outputs": [],
   "source": [
    "y_cat_train = to_categorical(y_train,4)"
   ]
  },
  {
   "cell_type": "code",
   "execution_count": 72,
   "metadata": {},
   "outputs": [],
   "source": [
    "y_cat_test = to_categorical(y_test,4)"
   ]
  },
  {
   "cell_type": "code",
   "execution_count": 73,
   "metadata": {},
   "outputs": [],
   "source": [
    "#y_cat_train.shape"
   ]
  },
  {
   "cell_type": "code",
   "execution_count": 74,
   "metadata": {},
   "outputs": [],
   "source": [
    "#y_cat_train[0]"
   ]
  },
  {
   "cell_type": "code",
   "execution_count": null,
   "metadata": {},
   "outputs": [],
   "source": []
  },
  {
   "cell_type": "code",
   "execution_count": 81,
   "metadata": {},
   "outputs": [],
   "source": [
    "from sklearn.preprocessing import MinMaxScaler"
   ]
  },
  {
   "cell_type": "code",
   "execution_count": 82,
   "metadata": {},
   "outputs": [],
   "source": [
    "scaler = MinMaxScaler()"
   ]
  },
  {
   "cell_type": "code",
   "execution_count": 83,
   "metadata": {},
   "outputs": [],
   "source": [
    "X_train = scaler.fit_transform(X_train)"
   ]
  },
  {
   "cell_type": "code",
   "execution_count": 84,
   "metadata": {},
   "outputs": [],
   "source": [
    "X_test = scaler.transform(X_test)"
   ]
  },
  {
   "cell_type": "code",
   "execution_count": null,
   "metadata": {},
   "outputs": [],
   "source": []
  },
  {
   "cell_type": "markdown",
   "metadata": {},
   "source": [
    "# Model Architecture"
   ]
  },
  {
   "cell_type": "code",
   "execution_count": 85,
   "metadata": {},
   "outputs": [],
   "source": [
    "from tensorflow.keras.models import Sequential\n",
    "from tensorflow.keras.layers import Dense,Dropout,Activation\n",
    "from tensorflow.keras.optimizers import Adam"
   ]
  },
  {
   "cell_type": "code",
   "execution_count": 86,
   "metadata": {},
   "outputs": [
    {
     "data": {
      "text/plain": [
       "(50066, 66)"
      ]
     },
     "execution_count": 86,
     "metadata": {},
     "output_type": "execute_result"
    }
   ],
   "source": [
    "X_train.shape"
   ]
  },
  {
   "cell_type": "code",
   "execution_count": 87,
   "metadata": {},
   "outputs": [],
   "source": [
    "model = Sequential()\n",
    "\n",
    "#model.add(Dense(units=99,activation='relu'))\n",
    "model.add(Dense(units=66,activation='relu'))\n",
    "#model.add(Dense(units=44,activation='relu'))\n",
    "model.add(Dense(units=33,activation='relu'))\n",
    "model.add(Dense(units=16,activation='relu'))\n",
    "model.add(Dense(units=4,activation='softmax'))\n",
    "\n",
    "model.compile(loss='categorical_crossentropy', optimizer='adam', metrics=['accuracy'])"
   ]
  },
  {
   "cell_type": "markdown",
   "metadata": {},
   "source": [
    "# Model Training"
   ]
  },
  {
   "cell_type": "code",
   "execution_count": 88,
   "metadata": {},
   "outputs": [],
   "source": [
    "from tensorflow.keras.callbacks import EarlyStopping"
   ]
  },
  {
   "cell_type": "code",
   "execution_count": 89,
   "metadata": {},
   "outputs": [],
   "source": [
    "early_stop = EarlyStopping(monitor='loss', mode='min', verbose=1, patience=1)"
   ]
  },
  {
   "cell_type": "code",
   "execution_count": 90,
   "metadata": {},
   "outputs": [
    {
     "name": "stdout",
     "output_type": "stream",
     "text": [
      "Train on 50066 samples, validate on 21457 samples\n",
      "Epoch 1/160\n",
      "50066/50066 [==============================] - 1s 10us/sample - loss: 1.3735 - acc: 0.3633 - val_loss: 1.3496 - val_acc: 0.3885\n",
      "Epoch 2/160\n",
      "50066/50066 [==============================] - 0s 3us/sample - loss: 1.3487 - acc: 0.3916 - val_loss: 1.3311 - val_acc: 0.3975\n",
      "Epoch 3/160\n",
      "50066/50066 [==============================] - 0s 3us/sample - loss: 1.3303 - acc: 0.4004 - val_loss: 1.3169 - val_acc: 0.4124\n",
      "Epoch 4/160\n",
      "50066/50066 [==============================] - 0s 3us/sample - loss: 1.3163 - acc: 0.4149 - val_loss: 1.3039 - val_acc: 0.4280\n",
      "Epoch 5/160\n",
      "50066/50066 [==============================] - 0s 4us/sample - loss: 1.3035 - acc: 0.4310 - val_loss: 1.2909 - val_acc: 0.4460\n",
      "Epoch 6/160\n",
      "50066/50066 [==============================] - 0s 4us/sample - loss: 1.2907 - acc: 0.4502 - val_loss: 1.2777 - val_acc: 0.4621\n",
      "Epoch 7/160\n",
      "50066/50066 [==============================] - 0s 3us/sample - loss: 1.2778 - acc: 0.4672 - val_loss: 1.2642 - val_acc: 0.4785\n",
      "Epoch 8/160\n",
      "50066/50066 [==============================] - 0s 3us/sample - loss: 1.2646 - acc: 0.4834 - val_loss: 1.2512 - val_acc: 0.4886\n",
      "Epoch 9/160\n",
      "50066/50066 [==============================] - 0s 3us/sample - loss: 1.2518 - acc: 0.4922 - val_loss: 1.2408 - val_acc: 0.4927\n",
      "Epoch 10/160\n",
      "50066/50066 [==============================] - 0s 4us/sample - loss: 1.2416 - acc: 0.4954 - val_loss: 1.2316 - val_acc: 0.4962\n",
      "Epoch 11/160\n",
      "50066/50066 [==============================] - 0s 5us/sample - loss: 1.2325 - acc: 0.4990 - val_loss: 1.2225 - val_acc: 0.4984\n",
      "Epoch 12/160\n",
      "50066/50066 [==============================] - 0s 3us/sample - loss: 1.2236 - acc: 0.5008 - val_loss: 1.2132 - val_acc: 0.4993\n",
      "Epoch 13/160\n",
      "50066/50066 [==============================] - 0s 4us/sample - loss: 1.2145 - acc: 0.5003 - val_loss: 1.2038 - val_acc: 0.5014\n",
      "Epoch 14/160\n",
      "50066/50066 [==============================] - 0s 2us/sample - loss: 1.2051 - acc: 0.5021 - val_loss: 1.1943 - val_acc: 0.5081\n",
      "Epoch 15/160\n",
      "50066/50066 [==============================] - 0s 3us/sample - loss: 1.1957 - acc: 0.5080 - val_loss: 1.1851 - val_acc: 0.5179\n",
      "Epoch 16/160\n",
      "50066/50066 [==============================] - 0s 3us/sample - loss: 1.1866 - acc: 0.5182 - val_loss: 1.1758 - val_acc: 0.5363\n",
      "Epoch 17/160\n",
      "50066/50066 [==============================] - 0s 4us/sample - loss: 1.1773 - acc: 0.5366 - val_loss: 1.1661 - val_acc: 0.5552\n",
      "Epoch 18/160\n",
      "50066/50066 [==============================] - 0s 5us/sample - loss: 1.1676 - acc: 0.5568 - val_loss: 1.1566 - val_acc: 0.5752\n",
      "Epoch 19/160\n",
      "50066/50066 [==============================] - 0s 4us/sample - loss: 1.1582 - acc: 0.5775 - val_loss: 1.1470 - val_acc: 0.6012\n",
      "Epoch 20/160\n",
      "50066/50066 [==============================] - 0s 3us/sample - loss: 1.1487 - acc: 0.6010 - val_loss: 1.1370 - val_acc: 0.6168\n",
      "Epoch 21/160\n",
      "50066/50066 [==============================] - 0s 3us/sample - loss: 1.1388 - acc: 0.6160 - val_loss: 1.1267 - val_acc: 0.6292\n",
      "Epoch 22/160\n",
      "50066/50066 [==============================] - 0s 3us/sample - loss: 1.1285 - acc: 0.6286 - val_loss: 1.1162 - val_acc: 0.6385\n",
      "Epoch 23/160\n",
      "50066/50066 [==============================] - 0s 4us/sample - loss: 1.1181 - acc: 0.6398 - val_loss: 1.1056 - val_acc: 0.6407\n",
      "Epoch 24/160\n",
      "50066/50066 [==============================] - 0s 5us/sample - loss: 1.1076 - acc: 0.6424 - val_loss: 1.0949 - val_acc: 0.6453\n",
      "Epoch 25/160\n",
      "50066/50066 [==============================] - 0s 2us/sample - loss: 1.0971 - acc: 0.6455 - val_loss: 1.0839 - val_acc: 0.6501\n",
      "Epoch 26/160\n",
      "50066/50066 [==============================] - 0s 4us/sample - loss: 1.0862 - acc: 0.6497 - val_loss: 1.0727 - val_acc: 0.6530\n",
      "Epoch 27/160\n",
      "50066/50066 [==============================] - 0s 2us/sample - loss: 1.0751 - acc: 0.6531 - val_loss: 1.0615 - val_acc: 0.6569\n",
      "Epoch 28/160\n",
      "50066/50066 [==============================] - 0s 3us/sample - loss: 1.0641 - acc: 0.6560 - val_loss: 1.0502 - val_acc: 0.6609\n",
      "Epoch 29/160\n",
      "50066/50066 [==============================] - 0s 4us/sample - loss: 1.0529 - acc: 0.6597 - val_loss: 1.0384 - val_acc: 0.6651\n",
      "Epoch 30/160\n",
      "50066/50066 [==============================] - 0s 5us/sample - loss: 1.0413 - acc: 0.6635 - val_loss: 1.0262 - val_acc: 0.6710\n",
      "Epoch 31/160\n",
      "50066/50066 [==============================] - 0s 3us/sample - loss: 1.0293 - acc: 0.6680 - val_loss: 1.0137 - val_acc: 0.6769\n",
      "Epoch 32/160\n",
      "50066/50066 [==============================] - 0s 3us/sample - loss: 1.0170 - acc: 0.6733 - val_loss: 1.0011 - val_acc: 0.6829\n",
      "Epoch 33/160\n",
      "50066/50066 [==============================] - 0s 3us/sample - loss: 1.0046 - acc: 0.6792 - val_loss: 0.9881 - val_acc: 0.6888\n",
      "Epoch 34/160\n",
      "50066/50066 [==============================] - 0s 3us/sample - loss: 0.9917 - acc: 0.6845 - val_loss: 0.9749 - val_acc: 0.6940\n",
      "Epoch 35/160\n",
      "50066/50066 [==============================] - 0s 4us/sample - loss: 0.9785 - acc: 0.6903 - val_loss: 0.9615 - val_acc: 0.7002\n",
      "Epoch 36/160\n",
      "50066/50066 [==============================] - 0s 5us/sample - loss: 0.9652 - acc: 0.6959 - val_loss: 0.9478 - val_acc: 0.7050\n",
      "Epoch 37/160\n",
      "50066/50066 [==============================] - 0s 3us/sample - loss: 0.9516 - acc: 0.7001 - val_loss: 0.9339 - val_acc: 0.7081\n",
      "Epoch 38/160\n",
      "50066/50066 [==============================] - 0s 4us/sample - loss: 0.9378 - acc: 0.7032 - val_loss: 0.9200 - val_acc: 0.7098\n",
      "Epoch 39/160\n",
      "50066/50066 [==============================] - 0s 3us/sample - loss: 0.9239 - acc: 0.7060 - val_loss: 0.9064 - val_acc: 0.7111\n",
      "Epoch 40/160\n",
      "50066/50066 [==============================] - 0s 3us/sample - loss: 0.9104 - acc: 0.7077 - val_loss: 0.8929 - val_acc: 0.7130\n",
      "Epoch 41/160\n",
      "50066/50066 [==============================] - 0s 8us/sample - loss: 0.8969 - acc: 0.7094 - val_loss: 0.8791 - val_acc: 0.7140\n",
      "Epoch 42/160\n",
      "50066/50066 [==============================] - 0s 3us/sample - loss: 0.8832 - acc: 0.7107 - val_loss: 0.8656 - val_acc: 0.7140\n",
      "Epoch 43/160\n",
      "50066/50066 [==============================] - 0s 3us/sample - loss: 0.8697 - acc: 0.7114 - val_loss: 0.8521 - val_acc: 0.7157\n",
      "Epoch 44/160\n",
      "50066/50066 [==============================] - 0s 3us/sample - loss: 0.8563 - acc: 0.7129 - val_loss: 0.8386 - val_acc: 0.7186\n",
      "Epoch 45/160\n",
      "50066/50066 [==============================] - 0s 3us/sample - loss: 0.8429 - acc: 0.7153 - val_loss: 0.8252 - val_acc: 0.7214\n",
      "Epoch 46/160\n",
      "50066/50066 [==============================] - 0s 5us/sample - loss: 0.8295 - acc: 0.7178 - val_loss: 0.8120 - val_acc: 0.7237\n",
      "Epoch 47/160\n",
      "50066/50066 [==============================] - 0s 4us/sample - loss: 0.8163 - acc: 0.7201 - val_loss: 0.7989 - val_acc: 0.7259\n",
      "Epoch 48/160\n",
      "50066/50066 [==============================] - 0s 3us/sample - loss: 0.8032 - acc: 0.7224 - val_loss: 0.7859 - val_acc: 0.7284\n",
      "Epoch 49/160\n",
      "50066/50066 [==============================] - 0s 3us/sample - loss: 0.7902 - acc: 0.7249 - val_loss: 0.7730 - val_acc: 0.7310\n",
      "Epoch 50/160\n",
      "50066/50066 [==============================] - 0s 3us/sample - loss: 0.7772 - acc: 0.7278 - val_loss: 0.7600 - val_acc: 0.7340\n",
      "Epoch 51/160\n",
      "50066/50066 [==============================] - 0s 3us/sample - loss: 0.7642 - acc: 0.7306 - val_loss: 0.7471 - val_acc: 0.7361\n",
      "Epoch 52/160\n",
      "50066/50066 [==============================] - 0s 6us/sample - loss: 0.7511 - acc: 0.7330 - val_loss: 0.7341 - val_acc: 0.7380\n",
      "Epoch 53/160\n",
      "50066/50066 [==============================] - 0s 3us/sample - loss: 0.7382 - acc: 0.7350 - val_loss: 0.7212 - val_acc: 0.7404\n",
      "Epoch 54/160\n",
      "50066/50066 [==============================] - 0s 4us/sample - loss: 0.7253 - acc: 0.7370 - val_loss: 0.7085 - val_acc: 0.7454\n",
      "Epoch 55/160\n",
      "50066/50066 [==============================] - 0s 3us/sample - loss: 0.7125 - acc: 0.7424 - val_loss: 0.6960 - val_acc: 0.7557\n",
      "Epoch 56/160\n",
      "50066/50066 [==============================] - 0s 4us/sample - loss: 0.6999 - acc: 0.7537 - val_loss: 0.6835 - val_acc: 0.7698\n",
      "Epoch 57/160\n",
      "50066/50066 [==============================] - 0s 5us/sample - loss: 0.6873 - acc: 0.7679 - val_loss: 0.6710 - val_acc: 0.7797\n",
      "Epoch 58/160\n",
      "50066/50066 [==============================] - 0s 5us/sample - loss: 0.6747 - acc: 0.7780 - val_loss: 0.6583 - val_acc: 0.7965\n",
      "Epoch 59/160\n",
      "50066/50066 [==============================] - 0s 3us/sample - loss: 0.6620 - acc: 0.7955 - val_loss: 0.6455 - val_acc: 0.8102\n"
     ]
    },
    {
     "name": "stdout",
     "output_type": "stream",
     "text": [
      "Epoch 60/160\n",
      "50066/50066 [==============================] - 0s 3us/sample - loss: 0.6491 - acc: 0.8086 - val_loss: 0.6325 - val_acc: 0.8183\n",
      "Epoch 61/160\n",
      "50066/50066 [==============================] - 0s 3us/sample - loss: 0.6360 - acc: 0.8167 - val_loss: 0.6196 - val_acc: 0.8219\n",
      "Epoch 62/160\n",
      "50066/50066 [==============================] - 0s 3us/sample - loss: 0.6229 - acc: 0.8201 - val_loss: 0.6067 - val_acc: 0.8249\n",
      "Epoch 63/160\n",
      "50066/50066 [==============================] - 0s 4us/sample - loss: 0.6099 - acc: 0.8245 - val_loss: 0.5942 - val_acc: 0.8264\n",
      "Epoch 64/160\n",
      "50066/50066 [==============================] - 0s 5us/sample - loss: 0.5973 - acc: 0.8250 - val_loss: 0.5821 - val_acc: 0.8285\n",
      "Epoch 65/160\n",
      "50066/50066 [==============================] - 0s 4us/sample - loss: 0.5851 - acc: 0.8260 - val_loss: 0.5705 - val_acc: 0.8283\n",
      "Epoch 66/160\n",
      "50066/50066 [==============================] - 0s 3us/sample - loss: 0.5733 - acc: 0.8271 - val_loss: 0.5592 - val_acc: 0.8288\n",
      "Epoch 67/160\n",
      "50066/50066 [==============================] - 0s 4us/sample - loss: 0.5620 - acc: 0.8281 - val_loss: 0.5482 - val_acc: 0.8306\n",
      "Epoch 68/160\n",
      "50066/50066 [==============================] - 0s 3us/sample - loss: 0.5508 - acc: 0.8300 - val_loss: 0.5373 - val_acc: 0.8329\n",
      "Epoch 69/160\n",
      "50066/50066 [==============================] - 0s 3us/sample - loss: 0.5398 - acc: 0.8324 - val_loss: 0.5267 - val_acc: 0.8354\n",
      "Epoch 70/160\n",
      "50066/50066 [==============================] - 0s 4us/sample - loss: 0.5290 - acc: 0.8352 - val_loss: 0.5162 - val_acc: 0.8386\n",
      "Epoch 71/160\n",
      "50066/50066 [==============================] - 0s 3us/sample - loss: 0.5184 - acc: 0.8381 - val_loss: 0.5059 - val_acc: 0.8410\n",
      "Epoch 72/160\n",
      "50066/50066 [==============================] - 0s 3us/sample - loss: 0.5079 - acc: 0.8403 - val_loss: 0.4957 - val_acc: 0.8428\n",
      "Epoch 73/160\n",
      "50066/50066 [==============================] - 0s 3us/sample - loss: 0.4976 - acc: 0.8428 - val_loss: 0.4856 - val_acc: 0.8449\n",
      "Epoch 74/160\n",
      "50066/50066 [==============================] - 0s 3us/sample - loss: 0.4874 - acc: 0.8448 - val_loss: 0.4758 - val_acc: 0.8475\n",
      "Epoch 75/160\n",
      "50066/50066 [==============================] - 0s 5us/sample - loss: 0.4775 - acc: 0.8478 - val_loss: 0.4661 - val_acc: 0.8507\n",
      "Epoch 76/160\n",
      "50066/50066 [==============================] - 0s 3us/sample - loss: 0.4676 - acc: 0.8513 - val_loss: 0.4566 - val_acc: 0.8549\n",
      "Epoch 77/160\n",
      "50066/50066 [==============================] - 0s 4us/sample - loss: 0.4580 - acc: 0.8551 - val_loss: 0.4472 - val_acc: 0.8578\n",
      "Epoch 78/160\n",
      "50066/50066 [==============================] - 0s 3us/sample - loss: 0.4485 - acc: 0.8583 - val_loss: 0.4381 - val_acc: 0.8612\n",
      "Epoch 79/160\n",
      "50066/50066 [==============================] - 0s 3us/sample - loss: 0.4392 - acc: 0.8623 - val_loss: 0.4291 - val_acc: 0.8660\n",
      "Epoch 80/160\n",
      "50066/50066 [==============================] - 0s 3us/sample - loss: 0.4301 - acc: 0.8664 - val_loss: 0.4204 - val_acc: 0.8714\n",
      "Epoch 81/160\n",
      "50066/50066 [==============================] - 0s 4us/sample - loss: 0.4213 - acc: 0.8706 - val_loss: 0.4120 - val_acc: 0.8751\n",
      "Epoch 82/160\n",
      "50066/50066 [==============================] - 0s 4us/sample - loss: 0.4127 - acc: 0.8737 - val_loss: 0.4037 - val_acc: 0.8770\n",
      "Epoch 83/160\n",
      "50066/50066 [==============================] - 0s 3us/sample - loss: 0.4044 - acc: 0.8765 - val_loss: 0.3956 - val_acc: 0.8788\n",
      "Epoch 84/160\n",
      "50066/50066 [==============================] - 0s 3us/sample - loss: 0.3962 - acc: 0.8793 - val_loss: 0.3876 - val_acc: 0.8807\n",
      "Epoch 85/160\n",
      "50066/50066 [==============================] - 0s 3us/sample - loss: 0.3880 - acc: 0.8814 - val_loss: 0.3796 - val_acc: 0.8826\n",
      "Epoch 86/160\n",
      "50066/50066 [==============================] - 0s 2us/sample - loss: 0.3799 - acc: 0.8835 - val_loss: 0.3719 - val_acc: 0.8846\n",
      "Epoch 87/160\n",
      "50066/50066 [==============================] - 0s 4us/sample - loss: 0.3721 - acc: 0.8853 - val_loss: 0.3645 - val_acc: 0.8865\n",
      "Epoch 88/160\n",
      "50066/50066 [==============================] - 0s 5us/sample - loss: 0.3646 - acc: 0.8874 - val_loss: 0.3574 - val_acc: 0.8874\n",
      "Epoch 89/160\n",
      "50066/50066 [==============================] - 0s 3us/sample - loss: 0.3574 - acc: 0.8889 - val_loss: 0.3505 - val_acc: 0.8888\n",
      "Epoch 90/160\n",
      "50066/50066 [==============================] - 0s 3us/sample - loss: 0.3504 - acc: 0.8902 - val_loss: 0.3438 - val_acc: 0.8900\n",
      "Epoch 91/160\n",
      "50066/50066 [==============================] - 0s 3us/sample - loss: 0.3436 - acc: 0.8915 - val_loss: 0.3373 - val_acc: 0.8916\n",
      "Epoch 92/160\n",
      "50066/50066 [==============================] - 0s 4us/sample - loss: 0.3370 - acc: 0.8929 - val_loss: 0.3310 - val_acc: 0.8935\n",
      "Epoch 93/160\n",
      "50066/50066 [==============================] - 0s 3us/sample - loss: 0.3306 - acc: 0.8944 - val_loss: 0.3248 - val_acc: 0.8955\n",
      "Epoch 94/160\n",
      "50066/50066 [==============================] - 0s 5us/sample - loss: 0.3243 - acc: 0.8959 - val_loss: 0.3188 - val_acc: 0.8964\n",
      "Epoch 95/160\n",
      "50066/50066 [==============================] - 0s 3us/sample - loss: 0.3182 - acc: 0.8969 - val_loss: 0.3129 - val_acc: 0.8970\n",
      "Epoch 96/160\n",
      "50066/50066 [==============================] - 0s 4us/sample - loss: 0.3123 - acc: 0.8979 - val_loss: 0.3073 - val_acc: 0.8983\n",
      "Epoch 97/160\n",
      "50066/50066 [==============================] - 0s 3us/sample - loss: 0.3066 - acc: 0.8991 - val_loss: 0.3018 - val_acc: 0.8995\n",
      "Epoch 98/160\n",
      "50066/50066 [==============================] - 0s 3us/sample - loss: 0.3010 - acc: 0.9007 - val_loss: 0.2965 - val_acc: 0.9008\n",
      "Epoch 99/160\n",
      "50066/50066 [==============================] - 0s 5us/sample - loss: 0.2956 - acc: 0.9019 - val_loss: 0.2913 - val_acc: 0.9022\n",
      "Epoch 100/160\n",
      "50066/50066 [==============================] - 0s 5us/sample - loss: 0.2903 - acc: 0.9032 - val_loss: 0.2863 - val_acc: 0.9033\n",
      "Epoch 101/160\n",
      "50066/50066 [==============================] - 0s 3us/sample - loss: 0.2852 - acc: 0.9041 - val_loss: 0.2814 - val_acc: 0.9042\n",
      "Epoch 102/160\n",
      "50066/50066 [==============================] - 0s 3us/sample - loss: 0.2803 - acc: 0.9051 - val_loss: 0.2767 - val_acc: 0.9054\n",
      "Epoch 103/160\n",
      "50066/50066 [==============================] - 0s 2us/sample - loss: 0.2755 - acc: 0.9065 - val_loss: 0.2721 - val_acc: 0.9066\n",
      "Epoch 104/160\n",
      "50066/50066 [==============================] - 0s 3us/sample - loss: 0.2708 - acc: 0.9077 - val_loss: 0.2676 - val_acc: 0.9076\n",
      "Epoch 105/160\n",
      "50066/50066 [==============================] - 0s 5us/sample - loss: 0.2663 - acc: 0.9089 - val_loss: 0.2632 - val_acc: 0.9087\n",
      "Epoch 106/160\n",
      "50066/50066 [==============================] - 0s 3us/sample - loss: 0.2619 - acc: 0.9100 - val_loss: 0.2590 - val_acc: 0.9093\n",
      "Epoch 107/160\n",
      "50066/50066 [==============================] - 0s 4us/sample - loss: 0.2576 - acc: 0.9108 - val_loss: 0.2550 - val_acc: 0.9097\n",
      "Epoch 108/160\n",
      "50066/50066 [==============================] - 0s 4us/sample - loss: 0.2535 - acc: 0.9115 - val_loss: 0.2510 - val_acc: 0.9106\n",
      "Epoch 109/160\n",
      "50066/50066 [==============================] - 0s 4us/sample - loss: 0.2495 - acc: 0.9126 - val_loss: 0.2472 - val_acc: 0.9115\n",
      "Epoch 110/160\n",
      "50066/50066 [==============================] - 0s 3us/sample - loss: 0.2457 - acc: 0.9134 - val_loss: 0.2435 - val_acc: 0.9124\n",
      "Epoch 111/160\n",
      "50066/50066 [==============================] - 0s 5us/sample - loss: 0.2419 - acc: 0.9143 - val_loss: 0.2398 - val_acc: 0.9130\n",
      "Epoch 112/160\n",
      "50066/50066 [==============================] - 0s 3us/sample - loss: 0.2383 - acc: 0.9148 - val_loss: 0.2363 - val_acc: 0.9138\n",
      "Epoch 113/160\n",
      "50066/50066 [==============================] - 0s 3us/sample - loss: 0.2347 - acc: 0.9155 - val_loss: 0.2329 - val_acc: 0.9144\n",
      "Epoch 114/160\n",
      "50066/50066 [==============================] - 0s 3us/sample - loss: 0.2313 - acc: 0.9161 - val_loss: 0.2296 - val_acc: 0.9152\n",
      "Epoch 115/160\n",
      "50066/50066 [==============================] - 0s 3us/sample - loss: 0.2279 - acc: 0.9172 - val_loss: 0.2264 - val_acc: 0.9160\n",
      "Epoch 116/160\n",
      "50066/50066 [==============================] - 0s 3us/sample - loss: 0.2247 - acc: 0.9179 - val_loss: 0.2232 - val_acc: 0.9164\n",
      "Epoch 117/160\n",
      "50066/50066 [==============================] - 0s 5us/sample - loss: 0.2215 - acc: 0.9182 - val_loss: 0.2202 - val_acc: 0.9173\n",
      "Epoch 118/160\n",
      "50066/50066 [==============================] - 0s 4us/sample - loss: 0.2184 - acc: 0.9188 - val_loss: 0.2172 - val_acc: 0.9179\n"
     ]
    },
    {
     "name": "stdout",
     "output_type": "stream",
     "text": [
      "Epoch 119/160\n",
      "50066/50066 [==============================] - 0s 4us/sample - loss: 0.2155 - acc: 0.9194 - val_loss: 0.2144 - val_acc: 0.9185\n",
      "Epoch 120/160\n",
      "50066/50066 [==============================] - 0s 3us/sample - loss: 0.2125 - acc: 0.9200 - val_loss: 0.2115 - val_acc: 0.9193\n",
      "Epoch 121/160\n",
      "50066/50066 [==============================] - 0s 3us/sample - loss: 0.2097 - acc: 0.9208 - val_loss: 0.2088 - val_acc: 0.9200\n",
      "Epoch 122/160\n",
      "50066/50066 [==============================] - 0s 5us/sample - loss: 0.2069 - acc: 0.9215 - val_loss: 0.2061 - val_acc: 0.9204\n",
      "Epoch 123/160\n",
      "50066/50066 [==============================] - 0s 5us/sample - loss: 0.2042 - acc: 0.9219 - val_loss: 0.2035 - val_acc: 0.9210\n",
      "Epoch 124/160\n",
      "50066/50066 [==============================] - 0s 5us/sample - loss: 0.2016 - acc: 0.9228 - val_loss: 0.2009 - val_acc: 0.9216\n",
      "Epoch 125/160\n",
      "50066/50066 [==============================] - 0s 4us/sample - loss: 0.1990 - acc: 0.9235 - val_loss: 0.1984 - val_acc: 0.9223\n",
      "Epoch 126/160\n",
      "50066/50066 [==============================] - 0s 3us/sample - loss: 0.1965 - acc: 0.9241 - val_loss: 0.1960 - val_acc: 0.9228\n",
      "Epoch 127/160\n",
      "50066/50066 [==============================] - 0s 4us/sample - loss: 0.1940 - acc: 0.9249 - val_loss: 0.1937 - val_acc: 0.9236\n",
      "Epoch 128/160\n",
      "50066/50066 [==============================] - 0s 5us/sample - loss: 0.1917 - acc: 0.9255 - val_loss: 0.1916 - val_acc: 0.9237\n",
      "Epoch 129/160\n",
      "50066/50066 [==============================] - 0s 3us/sample - loss: 0.1896 - acc: 0.9266 - val_loss: 0.1904 - val_acc: 0.9262\n",
      "Epoch 130/160\n",
      "50066/50066 [==============================] - 0s 3us/sample - loss: 0.1883 - acc: 0.9269 - val_loss: 0.1892 - val_acc: 0.9251\n",
      "Epoch 131/160\n",
      "50066/50066 [==============================] - 0s 3us/sample - loss: 0.1872 - acc: 0.9289 - val_loss: 0.1870 - val_acc: 0.9277\n",
      "Epoch 132/160\n",
      "50066/50066 [==============================] - 0s 4us/sample - loss: 0.1848 - acc: 0.9281 - val_loss: 0.1827 - val_acc: 0.9266\n",
      "Epoch 133/160\n",
      "50066/50066 [==============================] - 0s 4us/sample - loss: 0.1808 - acc: 0.9297 - val_loss: 0.1819 - val_acc: 0.9278\n",
      "Epoch 134/160\n",
      "50066/50066 [==============================] - 0s 4us/sample - loss: 0.1799 - acc: 0.9309 - val_loss: 0.1811 - val_acc: 0.9290\n",
      "Epoch 135/160\n",
      "50066/50066 [==============================] - 0s 3us/sample - loss: 0.1789 - acc: 0.9299 - val_loss: 0.1771 - val_acc: 0.9280\n",
      "Epoch 136/160\n",
      "50066/50066 [==============================] - 0s 3us/sample - loss: 0.1751 - acc: 0.9318 - val_loss: 0.1762 - val_acc: 0.9297\n",
      "Epoch 137/160\n",
      "50066/50066 [==============================] - 0s 4us/sample - loss: 0.1743 - acc: 0.9332 - val_loss: 0.1753 - val_acc: 0.9303\n",
      "Epoch 138/160\n",
      "50066/50066 [==============================] - 0s 3us/sample - loss: 0.1731 - acc: 0.9317 - val_loss: 0.1718 - val_acc: 0.9298\n",
      "Epoch 139/160\n",
      "50066/50066 [==============================] - 0s 4us/sample - loss: 0.1697 - acc: 0.9335 - val_loss: 0.1711 - val_acc: 0.9309\n",
      "Epoch 140/160\n",
      "50066/50066 [==============================] - 0s 5us/sample - loss: 0.1692 - acc: 0.9352 - val_loss: 0.1698 - val_acc: 0.9315\n",
      "Epoch 141/160\n",
      "50066/50066 [==============================] - 0s 4us/sample - loss: 0.1676 - acc: 0.9328 - val_loss: 0.1668 - val_acc: 0.9316\n",
      "Epoch 142/160\n",
      "50066/50066 [==============================] - 0s 3us/sample - loss: 0.1648 - acc: 0.9351 - val_loss: 0.1664 - val_acc: 0.9334\n",
      "Epoch 143/160\n",
      "50066/50066 [==============================] - 0s 3us/sample - loss: 0.1644 - acc: 0.9372 - val_loss: 0.1646 - val_acc: 0.9332\n",
      "Epoch 144/160\n",
      "50066/50066 [==============================] - 0s 3us/sample - loss: 0.1625 - acc: 0.9347 - val_loss: 0.1623 - val_acc: 0.9340\n",
      "Epoch 145/160\n",
      "50066/50066 [==============================] - 0s 3us/sample - loss: 0.1603 - acc: 0.9365 - val_loss: 0.1618 - val_acc: 0.9356\n",
      "Epoch 146/160\n",
      "50066/50066 [==============================] - 0s 5us/sample - loss: 0.1598 - acc: 0.9393 - val_loss: 0.1598 - val_acc: 0.9353\n",
      "Epoch 147/160\n",
      "50066/50066 [==============================] - 0s 4us/sample - loss: 0.1577 - acc: 0.9373 - val_loss: 0.1581 - val_acc: 0.9361\n",
      "Epoch 148/160\n",
      "50066/50066 [==============================] - 0s 3us/sample - loss: 0.1560 - acc: 0.9386 - val_loss: 0.1573 - val_acc: 0.9374\n",
      "Epoch 149/160\n",
      "50066/50066 [==============================] - 0s 3us/sample - loss: 0.1553 - acc: 0.9410 - val_loss: 0.1553 - val_acc: 0.9375\n",
      "Epoch 150/160\n",
      "50066/50066 [==============================] - 0s 4us/sample - loss: 0.1532 - acc: 0.9401 - val_loss: 0.1540 - val_acc: 0.9381\n",
      "Epoch 151/160\n",
      "50066/50066 [==============================] - 0s 4us/sample - loss: 0.1519 - acc: 0.9408 - val_loss: 0.1530 - val_acc: 0.9397\n",
      "Epoch 152/160\n",
      "50066/50066 [==============================] - 0s 3us/sample - loss: 0.1510 - acc: 0.9430 - val_loss: 0.1511 - val_acc: 0.9398\n",
      "Epoch 153/160\n",
      "50066/50066 [==============================] - 0s 4us/sample - loss: 0.1490 - acc: 0.9420 - val_loss: 0.1500 - val_acc: 0.9401\n",
      "Epoch 154/160\n",
      "50066/50066 [==============================] - 0s 3us/sample - loss: 0.1479 - acc: 0.9428 - val_loss: 0.1488 - val_acc: 0.9416\n",
      "Epoch 155/160\n",
      "50066/50066 [==============================] - 0s 3us/sample - loss: 0.1468 - acc: 0.9446 - val_loss: 0.1471 - val_acc: 0.9416\n",
      "Epoch 156/160\n",
      "50066/50066 [==============================] - 0s 5us/sample - loss: 0.1451 - acc: 0.9443 - val_loss: 0.1461 - val_acc: 0.9421\n",
      "Epoch 157/160\n",
      "50066/50066 [==============================] - 0s 5us/sample - loss: 0.1441 - acc: 0.9447 - val_loss: 0.1448 - val_acc: 0.9433\n",
      "Epoch 158/160\n",
      "50066/50066 [==============================] - 0s 4us/sample - loss: 0.1429 - acc: 0.9463 - val_loss: 0.1433 - val_acc: 0.9437\n",
      "Epoch 159/160\n",
      "50066/50066 [==============================] - 0s 4us/sample - loss: 0.1413 - acc: 0.9459 - val_loss: 0.1423 - val_acc: 0.9438\n",
      "Epoch 160/160\n",
      "50066/50066 [==============================] - 0s 2us/sample - loss: 0.1403 - acc: 0.9463 - val_loss: 0.1411 - val_acc: 0.9451\n"
     ]
    },
    {
     "data": {
      "text/plain": [
       "<tensorflow.python.keras.callbacks.History at 0x27517c6aec8>"
      ]
     },
     "execution_count": 90,
     "metadata": {},
     "output_type": "execute_result"
    }
   ],
   "source": [
    "model.fit(x=X_train, \n",
    "          y=y_cat_train, \n",
    "          epochs=160,\n",
    "          batch_size= 50066,\n",
    "          validation_data=(X_test, y_cat_test), verbose=1,\n",
    "          #callbacks= [early_stop]\n",
    "          )"
   ]
  },
  {
   "cell_type": "code",
   "execution_count": 91,
   "metadata": {},
   "outputs": [],
   "source": [
    "losses = pd.DataFrame(model.history.history)"
   ]
  },
  {
   "cell_type": "code",
   "execution_count": 92,
   "metadata": {},
   "outputs": [
    {
     "data": {
      "text/plain": [
       "<matplotlib.axes._subplots.AxesSubplot at 0x27517f9b3c8>"
      ]
     },
     "execution_count": 92,
     "metadata": {},
     "output_type": "execute_result"
    },
    {
     "data": {
      "image/png": "[encoded data removed]",
      "text/plain": [
       "<Figure size 432x288 with 1 Axes>"
      ]
     },
     "metadata": {
      "needs_background": "light"
     },
     "output_type": "display_data"
    }
   ],
   "source": [
    "# loss --> Training loss, val_loss--> Test data loss\n",
    "losses[['loss','val_loss']].plot()"
   ]
  },
  {
   "cell_type": "code",
   "execution_count": 93,
   "metadata": {},
   "outputs": [
    {
     "data": {
      "text/plain": [
       "<matplotlib.axes._subplots.AxesSubplot at 0x275180fd488>"
      ]
     },
     "execution_count": 93,
     "metadata": {},
     "output_type": "execute_result"
    },
    {
     "data": {
      "image/png": "[encoded data removed]",
      "text/plain": [
       "<Figure size 432x288 with 1 Axes>"
      ]
     },
     "metadata": {
      "needs_background": "light"
     },
     "output_type": "display_data"
    }
   ],
   "source": [
    "# acc --> accuracy of training data, val_acc --> accuracy of test data\n",
    "losses[['acc','val_acc']].plot()"
   ]
  },
  {
   "cell_type": "markdown",
   "metadata": {},
   "source": [
    "# Performance Metrics"
   ]
  },
  {
   "cell_type": "code",
   "execution_count": 94,
   "metadata": {},
   "outputs": [],
   "source": [
    "from sklearn.metrics import classification_report,confusion_matrix"
   ]
  },
  {
   "cell_type": "code",
   "execution_count": 95,
   "metadata": {},
   "outputs": [],
   "source": [
    "predictions = model.predict_classes(X_test)"
   ]
  },
  {
   "cell_type": "code",
   "execution_count": 96,
   "metadata": {},
   "outputs": [
    {
     "data": {
      "text/plain": [
       "array([0, 2, 2, ..., 3, 1, 3], dtype=int64)"
      ]
     },
     "execution_count": 96,
     "metadata": {},
     "output_type": "execute_result"
    }
   ],
   "source": [
    "predictions"
   ]
  },
  {
   "cell_type": "code",
   "execution_count": 97,
   "metadata": {},
   "outputs": [
    {
     "name": "stdout",
     "output_type": "stream",
     "text": [
      "              precision    recall  f1-score   support\n",
      "\n",
      "           0       1.00      0.97      0.99      3634\n",
      "           1       1.00      0.99      0.99      3047\n",
      "           2       0.94      0.90      0.92      6999\n",
      "           3       0.90      0.95      0.93      7777\n",
      "\n",
      "    accuracy                           0.95     21457\n",
      "   macro avg       0.96      0.95      0.96     21457\n",
      "weighted avg       0.95      0.95      0.95     21457\n",
      "\n"
     ]
    }
   ],
   "source": [
    "print(classification_report(y_test,predictions))"
   ]
  },
  {
   "cell_type": "code",
   "execution_count": 98,
   "metadata": {},
   "outputs": [
    {
     "data": {
      "text/plain": [
       "array([[3543,    0,    0,   91],\n",
       "       [   1, 3017,   11,   18],\n",
       "       [   0,    0, 6314,  685],\n",
       "       [   0,    1,  370, 7406]], dtype=int64)"
      ]
     },
     "execution_count": 98,
     "metadata": {},
     "output_type": "execute_result"
    }
   ],
   "source": [
    "confusion_matrix(y_test,predictions)"
   ]
  },
  {
   "cell_type": "markdown",
   "metadata": {},
   "source": [
    "Test with random keypoints"
   ]
  },
  {
   "cell_type": "code",
   "execution_count": 167,
   "metadata": {},
   "outputs": [
    {
     "name": "stdout",
     "output_type": "stream",
     "text": [
      "21654\n",
      "3\n"
     ]
    }
   ],
   "source": [
    "import random\n",
    "#random.seed(101)\n",
    "random_ind = random.randint(0,len(df))\n",
    "\n",
    "new_customer = df.drop('pose',axis=1).iloc[random_ind]\n",
    "#print(new_customer)\n",
    "print(random_ind)\n",
    "print(df['pose'][random_ind])"
   ]
  },
  {
   "cell_type": "code",
   "execution_count": 168,
   "metadata": {},
   "outputs": [],
   "source": [
    "result = model.predict_classes(new_customer.values.reshape(1,66))"
   ]
  },
  {
   "cell_type": "code",
   "execution_count": 169,
   "metadata": {},
   "outputs": [
    {
     "data": {
      "text/plain": [
       "(66,)"
      ]
     },
     "execution_count": 169,
     "metadata": {},
     "output_type": "execute_result"
    }
   ],
   "source": [
    "new_customer.shape"
   ]
  },
  {
   "cell_type": "code",
   "execution_count": 170,
   "metadata": {},
   "outputs": [
    {
     "data": {
      "text/plain": [
       "array([3], dtype=int64)"
      ]
     },
     "execution_count": 170,
     "metadata": {},
     "output_type": "execute_result"
    }
   ],
   "source": [
    "result"
   ]
  },
  {
   "cell_type": "markdown",
   "metadata": {},
   "source": [
    "Save the model"
   ]
  },
  {
   "cell_type": "code",
   "execution_count": 172,
   "metadata": {},
   "outputs": [],
   "source": [
    "model.save('pose_model11.h5')"
   ]
  },
  {
   "cell_type": "code",
   "execution_count": null,
   "metadata": {},
   "outputs": [],
   "source": []
  }
 ],
 "metadata": {
  "kernelspec": {
   "display_name": "Python 3 (ipykernel)",
   "language": "python",
   "name": "python3"
  },
  "language_info": {
   "codemirror_mode": {
    "name": "ipython",
    "version": 3
   },
   "file_extension": ".py",
   "mimetype": "text/x-python",
   "name": "python",
   "nbconvert_exporter": "python",
   "pygments_lexer": "ipython3",
   "version": "3.7.4"
  }
 },
 "nbformat": 4,
 "nbformat_minor": 4
}
